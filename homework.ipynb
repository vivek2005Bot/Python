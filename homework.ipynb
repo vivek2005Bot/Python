{
  "nbformat": 4,
  "nbformat_minor": 0,
  "metadata": {
    "colab": {
      "provenance": []
    },
    "kernelspec": {
      "name": "python3",
      "display_name": "Python 3"
    },
    "language_info": {
      "name": "python"
    }
  },
  "cells": [
    {
      "cell_type": "code",
      "execution_count": 3,
      "metadata": {
        "id": "ZuVtfnwwNan4"
      },
      "outputs": [],
      "source": [
        "lst=['cat','dog','crow','santaclause','operation']\n",
        "\n"
      ]
    },
    {
      "cell_type": "markdown",
      "source": [
        "print all words with length greater than 3 in the above list"
      ],
      "metadata": {
        "id": "yfn5tyKHOLHZ"
      }
    },
    {
      "cell_type": "code",
      "source": [],
      "metadata": {
        "id": "R90XxiTOOKQ1"
      },
      "execution_count": null,
      "outputs": []
    },
    {
      "cell_type": "markdown",
      "source": [],
      "metadata": {
        "id": "Imk4PWAoOW4x"
      }
    },
    {
      "cell_type": "code",
      "source": [
        "lst2=['cAt','dOg','cRow','saNtaClaUse','opErAtIon']"
      ],
      "metadata": {
        "id": "ejzwHEPQOKU-"
      },
      "execution_count": 11,
      "outputs": []
    },
    {
      "cell_type": "markdown",
      "source": [
        "convert all word at even index to upper case and convert all words at odd index to lower case in lst2"
      ],
      "metadata": {
        "id": "TGbHHeH1UPKA"
      }
    },
    {
      "cell_type": "code",
      "source": [
        "lst3=[0,1,2,3,4,5,6,7,8,9,10]\n"
      ],
      "metadata": {
        "id": "Ma-0GrRfOKYL"
      },
      "execution_count": 14,
      "outputs": []
    },
    {
      "cell_type": "markdown",
      "source": [
        "using list slicing method slice ***all***(including the last element) elements at even index in lst3\n"
      ],
      "metadata": {
        "id": "4-1Qf4jeVFph"
      }
    },
    {
      "cell_type": "code",
      "source": [],
      "metadata": {
        "id": "t2vwzLXPVe2_"
      },
      "execution_count": null,
      "outputs": []
    }
  ]
}