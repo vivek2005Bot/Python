{
  "nbformat": 4,
  "nbformat_minor": 0,
  "metadata": {
    "colab": {
      "provenance": []
    },
    "kernelspec": {
      "name": "python3",
      "display_name": "Python 3"
    },
    "language_info": {
      "name": "python"
    }
  },
  "cells": [
    {
      "cell_type": "code",
      "execution_count": 3,
      "metadata": {
        "id": "ZuVtfnwwNan4"
      },
      "outputs": [],
      "source": [
        "nums = [0, 1, 2, \"3\", 5,\"8\",\"21\"]\n",
        "\n",
        "\n"
      ]
    },
    {
      "cell_type": "markdown",
      "source": [
        "create an empty list and append it on the following conditions\n",
        "*   if element is even find its square\n",
        "*   if element is odd find its cube"
      ],
      "metadata": {
        "id": "yfn5tyKHOLHZ"
      }
    },
    {
      "cell_type": "code",
      "source": [
        "nums = [0,5,22,30,42,80,75]\n",
        "y = [#enter your solution here in one line]\n",
        "print(y)"
      ],
      "metadata": {
        "id": "R90XxiTOOKQ1",
        "colab": {
          "base_uri": "https://localhost:8080/"
        },
        "outputId": "d886eda9-bc7b-4aec-9baf-f05bb7cd3125"
      },
      "execution_count": 4,
      "outputs": [
        {
          "output_type": "stream",
          "name": "stdout",
          "text": [
            "[0, 125, 4.69041575982343, 27000, 6.48074069840786, 512000, 421875]\n"
          ]
        }
      ]
    },
    {
      "cell_type": "markdown",
      "source": [
        "using list comprehension enter values in y on confitions\n",
        "*   if element is divisible by 5 then store its cube\n",
        "*   if element is not divisible by 5 then store its root\n",
        "\n"
      ],
      "metadata": {
        "id": "mY5xJlF3Ywap"
      }
    },
    {
      "cell_type": "code",
      "source": [
        "t,f= True,False\n",
        "print(t!=#select t or f such that output is False)\n",
        "\n"
      ],
      "metadata": {
        "id": "JgUDUVWDYi6t"
      },
      "execution_count": 5,
      "outputs": []
    },
    {
      "cell_type": "code",
      "source": [
        "print(t!=#select t or f such that output is True)"
      ],
      "metadata": {
        "id": "nICfQHz-aUi6"
      },
      "execution_count": null,
      "outputs": []
    },
    {
      "cell_type": "markdown",
      "source": [],
      "metadata": {
        "id": "Imk4PWAoOW4x"
      }
    },
    {
      "cell_type": "code",
      "source": [
        "book={1:\"rvai\",2:\"jamal\",3:\"victor\",4:\"basu\"}\n"
      ],
      "metadata": {
        "id": "ejzwHEPQOKU-",
        "colab": {
          "base_uri": "https://localhost:8080/"
        },
        "outputId": "8af39249-eb4a-4898-936a-79e6f51e6242"
      },
      "execution_count": 6,
      "outputs": [
        {
          "output_type": "stream",
          "name": "stdout",
          "text": [
            "{1: 'rvai', 2: 'jamal', 3: 'victor', 4: 'basu'}\n"
          ]
        }
      ]
    },
    {
      "cell_type": "markdown",
      "source": [
        "do the following find all the following\n",
        "\n",
        "*   find all the keys using a function\n",
        "*   find all the values using a function\n",
        "*   change the value in 3 to \"roy\"\n",
        "*   extract all the value where the key is odd\n",
        "\n",
        "\n",
        "\n"
      ],
      "metadata": {
        "id": "wnweaScLa_4N"
      }
    }
  ]
}