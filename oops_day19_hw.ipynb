{
  "nbformat": 4,
  "nbformat_minor": 0,
  "metadata": {
    "colab": {
      "provenance": []
    },
    "kernelspec": {
      "name": "python3",
      "display_name": "Python 3"
    },
    "language_info": {
      "name": "python"
    }
  },
  "cells": [
    {
      "cell_type": "code",
      "execution_count": null,
      "metadata": {
        "id": "iXpUVk1t1WU9"
      },
      "outputs": [],
      "source": []
    },
    {
      "cell_type": "markdown",
      "source": [
        "A university wants to automate their admission process. Students are admitted based on the marks scored in the qualifying exam. A student is identified by student id, age and marks in qualifying exam. Data are valid, if:\n",
        "\n",
        "Age is greater than 20\n",
        "Marks is between 0 and 100 (both inclusive)\n",
        "A student qualifies for admission, if\n",
        "\n",
        "Age and marks are valid and\n",
        "Marks is 65 or more\n",
        "Write a python program to represent the students seeking admission in the university."
      ],
      "metadata": {
        "id": "HG7LAFjmQlMB"
      }
    },
    {
      "cell_type": "markdown",
      "source": [
        "create class **student**:\n",
        "\n",
        "instance variables are:\n",
        "\n",
        "student_id\n",
        "\n",
        "age\n",
        "\n",
        "marks\n",
        "\n",
        "\n",
        "1-> create constructor\n",
        "\n",
        "2->create a function **is_data_valid** : it checks 2 conditions  \n",
        "\n",
        "a) if age is greater than 20 else returns false\n",
        "\n",
        "b) if marks is between 0 and 100 else returns false\n",
        "   \n",
        "   example marks=200(returns false), marks=-7(returns false), marks=0(returns true), marks=100(returns true), marks=66(returns true)\n",
        "\n",
        "c) if age is greater than 20 and marks are between 0 and 100 it returns True\n",
        "\n",
        "3->create method **qualifies_for_admission**:\n",
        "\n",
        "  a) it calls the method **is_data_valid** and checks if it is True\n",
        "\n",
        "  b)it checks if marks are greater than 65\n",
        "\n",
        "  if both conditions are true then it returns true  \n",
        "\n",
        "\n",
        "\n"
      ],
      "metadata": {
        "id": "QXULBvmm4JF2"
      }
    },
    {
      "cell_type": "markdown",
      "source": [
        "**out side the class** :\n",
        "\n",
        "1->create 4 objects of the class\n",
        "\n",
        "example\n",
        "\n",
        "    student1 = Student(student_id=1, age=21, marks=70)\n",
        "    student2 = Student(student_id=2, age=19, marks=80)\n",
        "    student3 = Student(student_id=3, age=22, marks=60)\n",
        "    student4 = Student(student_id=4, age=23, marks=66)\n",
        "2->**store the objects in a list**\n",
        "\n",
        "**using for loop** print the student_id, age, marks and also the admission status\n",
        "\n",
        "sample output\n",
        "\n",
        "Student ID: 1\n",
        "\n",
        "age: 21\n",
        "\n",
        "marks: 70\n",
        "\n",
        "Data Valid: True\n",
        "\n",
        "Qualifies for Admission: True\n",
        "\n",
        "Student ID: 2\n",
        "\n",
        "age: 19\n",
        "\n",
        "marks: 80\n",
        "\n",
        "Data Valid: False\n",
        "\n",
        "Qualifies for Admission: False\n",
        "\n",
        "Student ID: 3\n",
        "\n",
        "age: 22\n",
        "\n",
        "marks: 60\n",
        "\n",
        "Data Valid: True\n",
        "\n",
        "Qualifies for Admission: False\n",
        "\n",
        "Student ID: 4\n",
        "\n",
        "age: 23\n",
        "\n",
        "marks: 66\n",
        "\n",
        "Data Valid: True\n",
        "\n",
        "Qualifies for Admission: True\n",
        "\n",
        "\n",
        "\n",
        "    "
      ],
      "metadata": {
        "id": "ssSPO0kgTr91"
      }
    },
    {
      "cell_type": "code",
      "source": [
        "\n",
        ""
      ],
      "metadata": {
        "id": "bBCUoUqsUpo2"
      },
      "execution_count": 3,
      "outputs": []
    }
  ]
}