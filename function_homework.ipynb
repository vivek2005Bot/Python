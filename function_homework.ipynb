{
  "nbformat": 4,
  "nbformat_minor": 0,
  "metadata": {
    "colab": {
      "provenance": []
    },
    "kernelspec": {
      "name": "python3",
      "display_name": "Python 3"
    },
    "language_info": {
      "name": "python"
    }
  },
  "cells": [
    {
      "cell_type": "code",
      "execution_count": null,
      "metadata": {
        "id": "zJbgBpLZXp8c"
      },
      "outputs": [],
      "source": [
        "#Q1: Define a function greet that takes no parameters and prints \"Hello, World!\"."
      ]
    },
    {
      "cell_type": "code",
      "execution_count": null,
      "metadata": {
        "id": "oGT7vx9tX816"
      },
      "outputs": [],
      "source": [
        "#Q2: Define a function greet_person that takes one parameter \"name\" and prints \"Hello, name!\". example name=\"srinath\" output-> \"Hello, srinath!\""
      ]
    },
    {
      "cell_type": "code",
      "execution_count": null,
      "metadata": {
        "id": "fYXGk862X87n"
      },
      "outputs": [],
      "source": [
        "#Q3: Define a function square that takes one parameter x and returns the square of x."
      ]
    },
    {
      "cell_type": "code",
      "execution_count": null,
      "metadata": {
        "id": "oC8o4Yx7X63L"
      },
      "outputs": [],
      "source": [
        "#Q4: Define a function power that takes two parameters base and exp with a default value of 2 for exp, and returns base raised to the power of exp."
      ]
    },
    {
      "cell_type": "code",
      "execution_count": null,
      "metadata": {
        "id": "U-xDY_AbX7E6"
      },
      "outputs": [],
      "source": [
        "#Q5: Define a function min_max that takes a list of numbers and returns both the minimum and maximum numbers in the list."
      ]
    },
    {
      "cell_type": "code",
      "execution_count": null,
      "metadata": {
        "id": "fwpv-GlAX7Iz"
      },
      "outputs": [],
      "source": [
        "#Q6: Define a function sum_all that takes any number of numeric arguments and returns their sum."
      ]
    },
    {
      "cell_type": "code",
      "execution_count": null,
      "metadata": {
        "id": "qVnSvGC5X7MB"
      },
      "outputs": [],
      "source": [
        "#Q7: Define a function print_info that takes any number of keyword arguments and prints each key and value."
      ]
    },
    {
      "cell_type": "code",
      "execution_count": null,
      "metadata": {
        "id": "PAcaoZgzX7PK"
      },
      "outputs": [],
      "source": [
        "#Q8: Define a function outer that contains another function inner. The outer function should call inner and return its result. The inner function should return the string \"Inner Function\"."
      ]
    },
    {
      "cell_type": "code",
      "execution_count": null,
      "metadata": {
        "id": "4tHXBhmpX7SK"
      },
      "outputs": [],
      "source": [
        "#Q9: Define a lambda function add that takes two parameters a and b and returns their sum. Use the lambda function to add 3 and 5."
      ]
    },
    {
      "cell_type": "code",
      "execution_count": null,
      "metadata": {
        "id": "_I2RbsUXX7Wg"
      },
      "outputs": [],
      "source": [
        "#Q10: Define a function apply_func that takes a function f and a value x, and returns the result of applying f to x."
      ]
    }
  ]
}