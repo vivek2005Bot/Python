{
  "nbformat": 4,
  "nbformat_minor": 0,
  "metadata": {
    "colab": {
      "provenance": []
    },
    "kernelspec": {
      "name": "python3",
      "display_name": "Python 3"
    },
    "language_info": {
      "name": "python"
    }
  },
  "cells": [
    {
      "cell_type": "code",
      "execution_count": null,
      "metadata": {
        "id": "pWTjbJsLBk2F"
      },
      "outputs": [],
      "source": []
    },
    {
      "cell_type": "markdown",
      "source": [
        "You are required to implement a Bakery class in Python. This class should be able to take orders for cakes and store details about the type of cake and its size. Follow the guidelines below to complete the implementation:\n",
        "\n",
        "**Class Definition**:\n",
        "\n",
        "Define a class named \"***Bakery***\".\n",
        "\n",
        "In the __init__ method, initialize two instance variables:\n",
        "\n",
        "cake=None.\n",
        "\n",
        "size=None.\n",
        "\n",
        "**Order Method**:\n",
        "\n",
        "Implement a method named order that:\n",
        "\n",
        "\n",
        "Prompts the user to enter the type of cake(***you can enter any flavour u like***).\n",
        "\n",
        "Stores the user input in the instance variable cake.\n",
        "\n",
        "Prompts the user to enter the size of the cake(sizes can be ***small,medium,large***).\n",
        "\n",
        "Stores the user input in the instance variable size.\n",
        "\n",
        "**Display Method**:\n",
        "\n",
        "Implement a method named display that:\n",
        "\n",
        "Prints the values of the instance variables cake and size in the format:\n",
        " Cake: cake_type, Size: cake_size.\n",
        "\n",
        " example\n",
        "\n",
        " output:\n",
        "\n",
        " **Cake: chocolate, Size: small**\n",
        "\n",
        "\n",
        "Object Creation and Method calling:\n",
        "\n",
        "Create an **object** of the Bakery class.\n",
        "\n",
        "**Call** the **order** method to **take user inpu**t.\n",
        "\n",
        "**Call** the **display** method to **print the stored values**."
      ],
      "metadata": {
        "id": "4QmJE-05CALy"
      }
    },
    {
      "cell_type": "code",
      "source": [],
      "metadata": {
        "colab": {
          "base_uri": "https://localhost:8080/"
        },
        "id": "gPo3ButCCB8y",
        "outputId": "f0451e52-e342-4962-ad1b-3fa63d4f7694"
      },
      "execution_count": 1,
      "outputs": [
        {
          "output_type": "stream",
          "name": "stdout",
          "text": [
            "Enter the type of cake: rasberry\n",
            "Enter the size of the cake: medium\n",
            "Cake: rasberry, Size: medium\n"
          ]
        }
      ]
    }
  ]
}