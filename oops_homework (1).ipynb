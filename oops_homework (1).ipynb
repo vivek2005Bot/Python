{
  "nbformat": 4,
  "nbformat_minor": 0,
  "metadata": {
    "colab": {
      "provenance": []
    },
    "kernelspec": {
      "name": "python3",
      "display_name": "Python 3"
    },
    "language_info": {
      "name": "python"
    }
  },
  "cells": [
    {
      "cell_type": "code",
      "execution_count": null,
      "metadata": {
        "id": "pWTjbJsLBk2F"
      },
      "outputs": [],
      "source": []
    },
    {
      "cell_type": "markdown",
      "source": [
        "You are required to implement a Bakery class in Python. This class should be able to take orders for cakes and store details about the type of cake and its size. Follow the guidelines below to complete the implementation:\n",
        "\n",
        "**Class Definition**:\n",
        "\n",
        "Define a class named \"***Bakery***\".\n",
        "\n",
        "In the __init__ method, initialize two instance variables:\n",
        "\n",
        "cake=None.\n",
        "\n",
        "size=None.\n",
        "\n",
        "**Order Method**:\n",
        "\n",
        "Implement a method named order that:\n",
        "\n",
        "\n",
        "Prompts the user to enter the type of cake(***you can enter any flavour u like***).\n",
        "\n",
        "Stores the user input in the instance variable cake.\n",
        "\n",
        "Prompts the user to enter the size of the cake(sizes can be ***small,medium,large***).\n",
        "\n",
        "Stores the user input in the instance variable size.\n",
        "\n",
        "**Display Method**:\n",
        "\n",
        "Implement a method named display that:\n",
        "\n",
        "Prints the values of the instance variables cake and size in the format:\n",
        " Cake: cake_type, Size: cake_size.\n",
        "\n",
        " example\n",
        "\n",
        " output:\n",
        "\n",
        " **Cake: chocolate, Size: small**\n",
        "\n",
        "\n",
        "Object Creation and Method calling:\n",
        "\n",
        "Create an **object** of the Bakery class.\n",
        "\n",
        "**Call** the **order** method to **take user inpu**t.\n",
        "\n",
        "**Call** the **display** method to **print the stored values**."
      ],
      "metadata": {
        "id": "4QmJE-05CALy"
      }
    },
    {
      "cell_type": "code",
      "source": [
        "class bakery:\n",
        "  def __init__(self):\n",
        "    self.cake=None\n",
        "    self.size=None\n",
        "  def order(self):\n",
        "    self.cake=input(\"you can enter any flavour u like\")\n",
        "    self.size=input(\"sizes can be small,medium,large\")\n",
        "  def display(self):\n",
        "    print(f\"cake:{self.cake},size:{self.size}\")\n",
        ""
      ],
      "metadata": {
        "id": "gPo3ButCCB8y"
      },
      "execution_count": 29,
      "outputs": []
    },
    {
      "cell_type": "code",
      "source": [
        "hawrah=bakery()\n",
        "hawrah.order"
      ],
      "metadata": {
        "id": "sKiPSD45vet2"
      },
      "execution_count": null,
      "outputs": []
    },
    {
      "cell_type": "code",
      "source": [
        "#parameterised constructor\n",
        "class bakery:\n",
        "\n",
        "  def __init__(self,cake_name,cake_size):\n",
        "    self.cake=cake_name\n",
        "    self.size=cake_size\n",
        "    self.vegop()          #135052595263136.vegop()\n",
        "  def vegop(self):\n",
        "    egg_option=input(\"egg or egg_less\")   #variable initialized inside a method are local variable\n",
        "    print(f\"you want {egg_option} cake \")\n",
        "    preservative=\"chemical\"\n",
        "  def display(self):\n",
        "    print(f\"cake:{self.cake},size:{self.size}\")\n"
      ],
      "metadata": {
        "id": "usW1Hy89muWO"
      },
      "execution_count": 63,
      "outputs": []
    },
    {
      "cell_type": "code",
      "source": [
        "cake_name=input(\"your cake name\")\n",
        "cake_size=input(\"ur size of cake\")\n",
        "hawrah=bakery(cake_name,cake_size)"
      ],
      "metadata": {
        "colab": {
          "base_uri": "https://localhost:8080/"
        },
        "id": "QCr1m7ZEnDR8",
        "outputId": "6971b2d2-77dd-4253-82c9-2803be5dddce"
      },
      "execution_count": 61,
      "outputs": [
        {
          "output_type": "stream",
          "name": "stdout",
          "text": [
            "your cake namevanila\n",
            "ur size of cakesmall\n",
            "egg or egg_lesseggless\n",
            "you want eggless cake \n"
          ]
        }
      ]
    },
    {
      "cell_type": "code",
      "source": [
        "\n",
        "print(hawrah.preservative)"
      ],
      "metadata": {
        "colab": {
          "base_uri": "https://localhost:8080/"
        },
        "id": "XycowhYd14sC",
        "outputId": "131a239c-3139-4672-ac5e-f20f36f52230"
      },
      "execution_count": 62,
      "outputs": [
        {
          "output_type": "stream",
          "name": "stdout",
          "text": [
            "chemical\n"
          ]
        }
      ]
    },
    {
      "cell_type": "code",
      "source": [
        "hawrah.vegop()    #  135052595263136.vegop()"
      ],
      "metadata": {
        "colab": {
          "base_uri": "https://localhost:8080/"
        },
        "id": "o1zo8re0ylIQ",
        "outputId": "6fe5f49a-6a10-46d5-e3a7-e86f47a17788"
      },
      "execution_count": 47,
      "outputs": [
        {
          "output_type": "stream",
          "name": "stdout",
          "text": [
            "egg or egg_lesseggless\n",
            "you want eggless cake \n"
          ]
        }
      ]
    },
    {
      "cell_type": "code",
      "source": [
        "print(hawrah.cake,hawrah.size)"
      ],
      "metadata": {
        "colab": {
          "base_uri": "https://localhost:8080/"
        },
        "id": "BVys56RXsHhl",
        "outputId": "a60e2be0-6053-4910-d5fb-47df7cfb2406"
      },
      "execution_count": 36,
      "outputs": [
        {
          "output_type": "stream",
          "name": "stdout",
          "text": [
            "chocolate small\n"
          ]
        }
      ]
    },
    {
      "cell_type": "code",
      "source": [],
      "metadata": {
        "id": "uHPLvjKKp_Pq"
      },
      "execution_count": 30,
      "outputs": []
    }
  ]
}