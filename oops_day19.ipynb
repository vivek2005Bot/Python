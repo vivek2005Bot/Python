{
  "nbformat": 4,
  "nbformat_minor": 0,
  "metadata": {
    "colab": {
      "provenance": []
    },
    "kernelspec": {
      "name": "python3",
      "display_name": "Python 3"
    },
    "language_info": {
      "name": "python"
    }
  },
  "cells": [
    {
      "cell_type": "markdown",
      "source": [
        "You are required to implement a Bakery class in Python. This class should be able to take orders for cakes and store details about the type of cake and its size. Follow the guidelines below to complete the implementation:\n",
        "\n",
        "**Class Definition**:\n",
        "\n",
        "Define a class named \"***Bakery***\".\n",
        "\n",
        "In the __init__ method, initialize two instance variables:\n",
        "\n",
        "cake=None.\n",
        "\n",
        "size=None.\n",
        "\n",
        "**Order Method**:\n",
        "\n",
        "Implement a method named order that:\n",
        "\n",
        "\n",
        "Prompts the user to enter the type of cake(***you can enter any flavour u like***).\n",
        "\n",
        "Stores the user input in the instance variable cake.\n",
        "\n",
        "Prompts the user to enter the size of the cake(sizes can be ***small,medium,large***).\n",
        "\n",
        "Stores the user input in the instance variable size.\n",
        "\n",
        "**Display Method**:\n",
        "\n",
        "Implement a method named display that:\n",
        "\n",
        "Prints the values of the instance variables cake and size in the format:\n",
        " Cake: cake_type, Size: cake_size.\n",
        "\n",
        " example\n",
        "\n",
        " output:\n",
        "\n",
        " **Cake: chocolate, Size: small**\n",
        "\n",
        "\n",
        "Object Creation and Method calling:\n",
        "\n",
        "Create an **object** of the Bakery class.\n",
        "\n",
        "**Call** the **order** method to **take user inpu**t.\n",
        "\n",
        "**Call** the **display** method to **print the stored values**."
      ],
      "metadata": {
        "id": "4QmJE-05CALy"
      }
    },
    {
      "cell_type": "code",
      "source": [
        "class bakery:\n",
        "  def __init__(self):\n",
        "    self.cake=None\n",
        "    self.size=None\n",
        "  def order(self):\n",
        "    self.cake=input(\"you can enter any flavour u like\")\n",
        "    self.size=input(\"sizes can be small,medium,large\")\n",
        "  def display(self):\n",
        "    print(f\"cake:{self.cake},size:{self.size}\")\n"
      ],
      "metadata": {
        "id": "gPo3ButCCB8y"
      },
      "execution_count": null,
      "outputs": []
    },
    {
      "cell_type": "code",
      "source": [
        "hawrah=bakery()\n",
        "hawrah.order"
      ],
      "metadata": {
        "id": "sKiPSD45vet2"
      },
      "execution_count": null,
      "outputs": []
    },
    {
      "cell_type": "markdown",
      "source": [
        "# **parameterised constructor**"
      ],
      "metadata": {
        "id": "4uL0KNKq-Clh"
      }
    },
    {
      "cell_type": "code",
      "source": [
        "#parameterised constructor\n",
        "class bakery:\n",
        "  def __init__(self,cake_name,cake_size):\n",
        "    self.cake=cake_name\n",
        "    self.size=cake_size\n",
        "    self.vegop()          #135052595263136.vegop()\n",
        "  def vegop(self):\n",
        "    egg_option=input(\"egg or egg_less\")   #variable initialized inside a method are local variable\n",
        "    print(f\"you want {self.egg_option} cake \")\n",
        "    preservative=\"chemical\"\n",
        "\n",
        "  def display(self):\n",
        "    print(f\"cake:{self.cake},size:{self.size}\")\n"
      ],
      "metadata": {
        "id": "usW1Hy89muWO"
      },
      "execution_count": null,
      "outputs": []
    },
    {
      "cell_type": "code",
      "source": [
        "cake_name=input(\"your cake name\")\n",
        "cake_size=input(\"ur size of cake\")\n",
        "hawrah=bakery(cake_name,cake_size)"
      ],
      "metadata": {
        "colab": {
          "base_uri": "https://localhost:8080/"
        },
        "id": "QCr1m7ZEnDR8",
        "outputId": "e5312b1f-a34c-448d-ae17-33d153ba5813"
      },
      "execution_count": null,
      "outputs": [
        {
          "output_type": "stream",
          "name": "stdout",
          "text": [
            "your cake namevanila\n",
            "ur size of cakesmall\n",
            "egg or egg_lesseggless\n",
            "you want eggless cake \n"
          ]
        }
      ]
    },
    {
      "cell_type": "code",
      "source": [
        "print(hawrah.preservative)"
      ],
      "metadata": {
        "colab": {
          "base_uri": "https://localhost:8080/",
          "height": 141
        },
        "id": "8cds_gXB_Uh9",
        "outputId": "c67356bd-0c2e-425a-dcbe-c7799e21be64"
      },
      "execution_count": null,
      "outputs": [
        {
          "output_type": "error",
          "ename": "AttributeError",
          "evalue": "'bakery' object has no attribute 'preservative'",
          "traceback": [
            "\u001b[0;31m---------------------------------------------------------------------------\u001b[0m",
            "\u001b[0;31mAttributeError\u001b[0m                            Traceback (most recent call last)",
            "\u001b[0;32m<ipython-input-9-91d792baacd8>\u001b[0m in \u001b[0;36m<cell line: 1>\u001b[0;34m()\u001b[0m\n\u001b[0;32m----> 1\u001b[0;31m \u001b[0mprint\u001b[0m\u001b[0;34m(\u001b[0m\u001b[0mhawrah\u001b[0m\u001b[0;34m.\u001b[0m\u001b[0mpreservative\u001b[0m\u001b[0;34m)\u001b[0m\u001b[0;34m\u001b[0m\u001b[0;34m\u001b[0m\u001b[0m\n\u001b[0m",
            "\u001b[0;31mAttributeError\u001b[0m: 'bakery' object has no attribute 'preservative'"
          ]
        }
      ]
    },
    {
      "cell_type": "code",
      "source": [
        "\n",
        "print(hawrah.preservative)"
      ],
      "metadata": {
        "colab": {
          "base_uri": "https://localhost:8080/"
        },
        "id": "XycowhYd14sC",
        "outputId": "131a239c-3139-4672-ac5e-f20f36f52230"
      },
      "execution_count": null,
      "outputs": [
        {
          "output_type": "stream",
          "name": "stdout",
          "text": [
            "chemical\n"
          ]
        }
      ]
    },
    {
      "cell_type": "code",
      "source": [
        "hawrah.vegop()    #  135052595263136.vegop()"
      ],
      "metadata": {
        "colab": {
          "base_uri": "https://localhost:8080/"
        },
        "id": "o1zo8re0ylIQ",
        "outputId": "6fe5f49a-6a10-46d5-e3a7-e86f47a17788"
      },
      "execution_count": null,
      "outputs": [
        {
          "output_type": "stream",
          "name": "stdout",
          "text": [
            "egg or egg_lesseggless\n",
            "you want eggless cake \n"
          ]
        }
      ]
    },
    {
      "cell_type": "code",
      "source": [
        "print(hawrah.cake,hawrah.size)"
      ],
      "metadata": {
        "colab": {
          "base_uri": "https://localhost:8080/"
        },
        "id": "BVys56RXsHhl",
        "outputId": "a60e2be0-6053-4910-d5fb-47df7cfb2406"
      },
      "execution_count": null,
      "outputs": [
        {
          "output_type": "stream",
          "name": "stdout",
          "text": [
            "chocolate small\n"
          ]
        }
      ]
    },
    {
      "cell_type": "code",
      "source": [],
      "metadata": {
        "id": "uHPLvjKKp_Pq"
      },
      "execution_count": null,
      "outputs": []
    },
    {
      "cell_type": "markdown",
      "source": [
        "# **class variables/static variables**"
      ],
      "metadata": {
        "id": "1NPhlE5me2es"
      }
    },
    {
      "cell_type": "code",
      "source": [
        "@staticmethod\n",
        "  def getess():\n",
        "    return bakery.essentials"
      ],
      "metadata": {
        "id": "N4KJtsTX-SiK"
      },
      "execution_count": null,
      "outputs": []
    },
    {
      "cell_type": "code",
      "source": [
        "class bakery:\n",
        "  essentials=[\"candles\",\"matches\"]  #class/static variable initialize inside class and outside the methods\n",
        "  def __init__(self,cake_name,cake_size):\n",
        "    self.cake=cake_name    #instance variable initialize inside constructor\n",
        "    self.size=cake_size\n",
        "  @staticmethod\n",
        "  def get_essential():\n",
        "    return bakery.essentials\n",
        "  def display(self):\n",
        "    preserv=\"chemical\"  # local variavle initialize inside a function\n",
        "    print(f\"cake:{self.cake},size:{self.size},essentials:{bakery.essentials}\")"
      ],
      "metadata": {
        "id": "h3PsPmNWe7V2"
      },
      "execution_count": null,
      "outputs": []
    },
    {
      "cell_type": "code",
      "source": [
        "anu=bakery(\"chocolate\",\"small\")\n",
        "shivam=bakery(\"vanilla\",\"large\")"
      ],
      "metadata": {
        "id": "_-rkjYwOi5gI"
      },
      "execution_count": null,
      "outputs": []
    },
    {
      "cell_type": "code",
      "source": [
        "anu.display()\n",
        "shivam.display()"
      ],
      "metadata": {
        "colab": {
          "base_uri": "https://localhost:8080/"
        },
        "id": "6N3ojL34B19x",
        "outputId": "2aae0d05-27de-4755-ceae-51a4be772a3a"
      },
      "execution_count": null,
      "outputs": [
        {
          "output_type": "stream",
          "name": "stdout",
          "text": [
            "cake:chocolate,size:small,essentials:['candles', 'matches']\n",
            "cake:vanilla,size:large,essentials:['candles', 'matches']\n"
          ]
        }
      ]
    },
    {
      "cell_type": "code",
      "source": [
        "print(bakery.get_essential())"
      ],
      "metadata": {
        "colab": {
          "base_uri": "https://localhost:8080/"
        },
        "id": "UAKsbkhWkHoY",
        "outputId": "5e7c94f2-99c1-48d6-ed62-852e4d665010"
      },
      "execution_count": null,
      "outputs": [
        {
          "output_type": "stream",
          "name": "stdout",
          "text": [
            "['candles', 'matches']\n"
          ]
        }
      ]
    },
    {
      "cell_type": "markdown",
      "source": [
        "### Passing objects as arguments"
      ],
      "metadata": {
        "id": "4nqDJqJvfukO"
      }
    },
    {
      "cell_type": "code",
      "source": [
        "class bakery:\n",
        "  def __init__(self):\n",
        "    self.cake=None\n",
        "    self.size=None\n",
        "  def order(self):\n",
        "    self.cake=input(\"you can enter any flavour u like\")\n",
        "    self.size=input(\"sizes can be small,medium,large\")\n",
        "  def display(self):\n",
        "    print(f\"cake:{self.cake},size:{self.size}\")\n",
        "\n",
        "\n",
        "def modify(baker):\n",
        "  baker.cake=input(\"enter your flavour\")\n",
        "  baker.size=input(\"enter your size\")\n",
        "  return baker\n",
        "\n",
        "\n",
        "\n",
        "\n"
      ],
      "metadata": {
        "id": "R0GnEIJh_NLN"
      },
      "execution_count": null,
      "outputs": []
    },
    {
      "cell_type": "code",
      "source": [
        "hawrah=bakery()\n",
        "hawrah.order()\n",
        "print(id(hawrah))\n",
        "x = modify(hawrah)\n",
        "print(id(x))\n",
        "print(x.cake)\n",
        "print(x.size)"
      ],
      "metadata": {
        "colab": {
          "base_uri": "https://localhost:8080/"
        },
        "id": "n598le3I_ngu",
        "outputId": "d23773b8-c44b-4bfd-8be3-94a937824281"
      },
      "execution_count": null,
      "outputs": [
        {
          "output_type": "stream",
          "name": "stdout",
          "text": [
            "you can enter any flavour u likechocolate\n",
            "sizes can be small,medium,largesmall\n",
            "133948914113728\n",
            "enter your flavourvanilla\n",
            "enter your sizelarge\n",
            "133948914113728\n",
            "vanilla\n",
            "large\n"
          ]
        }
      ]
    },
    {
      "cell_type": "code",
      "source": [],
      "metadata": {
        "id": "I45b0DtRGYFL"
      },
      "execution_count": null,
      "outputs": []
    },
    {
      "cell_type": "markdown",
      "source": [
        "# **collection of objects**\n",
        "\n"
      ],
      "metadata": {
        "id": "F4T6EDQmGY6C"
      }
    },
    {
      "cell_type": "code",
      "source": [
        "class bakery:\n",
        "\n",
        "  def __init__(self,cake_name,cake_size):\n",
        "    self.cake=cake_name\n",
        "    self.size=cake_size\n",
        "anu=bakery(\"choco\",\"small\")\n",
        "varun=bakery(\"vanilla\",\"large\")\n",
        "keshav=bakery(\"strawberry\",\"medium\")\n",
        "l=[anu,varun,keshav]\n",
        "for i in l:\n",
        "  print(i.cake,i.size)   #anu.cake,anu.size"
      ],
      "metadata": {
        "colab": {
          "base_uri": "https://localhost:8080/"
        },
        "id": "QFtAplrrG8Ou",
        "outputId": "ed01cf6e-f813-4866-f24b-2a692e3c6f8d"
      },
      "execution_count": null,
      "outputs": [
        {
          "output_type": "stream",
          "name": "stdout",
          "text": [
            "choco small\n",
            "vanilla large\n",
            "strawberry medium\n"
          ]
        }
      ]
    },
    {
      "cell_type": "markdown",
      "source": [
        "# **merging objects**"
      ],
      "metadata": {
        "id": "1rJKQvmPT49Z"
      }
    },
    {
      "cell_type": "code",
      "source": [
        "class bakery:\n",
        "\n",
        "  def __init__(self,cake_name,cake_size):\n",
        "    self.cake=cake_name\n",
        "    self.size=cake_size\n",
        "  def merge(self,other):\n",
        "    self.cake=[self.cake,other.cake]\n",
        "    self.size=[self.size,other.size]\n",
        "anu=bakery(\"choco\",\"small\")\n",
        "varun=bakery(\"vanilla\",\"large\")\n",
        "anu.merge(varun)\n",
        "\n",
        "print(anu.cake,anu.size)\n",
        "print(varun.cake,varun.size)"
      ],
      "metadata": {
        "colab": {
          "base_uri": "https://localhost:8080/"
        },
        "id": "4RAsl1RlT8Vb",
        "outputId": "75263b50-a2d8-486f-cf81-3a3196aa291d"
      },
      "execution_count": null,
      "outputs": [
        {
          "output_type": "stream",
          "name": "stdout",
          "text": [
            "['choco', 'vanilla'] ['small', 'large']\n",
            "vanilla large\n"
          ]
        }
      ]
    },
    {
      "cell_type": "markdown",
      "source": [
        "# **magic functions**"
      ],
      "metadata": {
        "id": "9kqEYckL90Fp"
      }
    },
    {
      "cell_type": "code",
      "source": [
        "class Fraction:\n",
        "\n",
        "  # parameterized constructor\n",
        "  def __init__(self,x,y):   #magic function\n",
        "    self.numerator = x  #3\n",
        "    self.denominator = y#4\n",
        "\n",
        "  def __str__(self):\n",
        "    return '{}/{}'.format(self.numerator,self.denominator)"
      ],
      "metadata": {
        "id": "v3zbn8rdMhTM"
      },
      "execution_count": null,
      "outputs": []
    },
    {
      "cell_type": "code",
      "source": [
        "fr1 = Fraction(3,4)\n",
        "fr2 = Fraction(1,2)"
      ],
      "metadata": {
        "id": "o_hwrJMRMj-K"
      },
      "execution_count": null,
      "outputs": []
    },
    {
      "cell_type": "code",
      "source": [
        "print(fr1)     # anu.__init__(self)\n",
        "print(fr2)"
      ],
      "metadata": {
        "colab": {
          "base_uri": "https://localhost:8080/"
        },
        "id": "YQNs3HwkMnvM",
        "outputId": "995b100d-3a8f-4c17-a965-223805257a79"
      },
      "execution_count": null,
      "outputs": [
        {
          "output_type": "stream",
          "name": "stdout",
          "text": [
            "3/4\n",
            "1/2\n"
          ]
        }
      ]
    },
    {
      "cell_type": "code",
      "source": [
        "class Fraction:\n",
        "\n",
        "  # parameterized constructor\n",
        "  def __init__(self,x,y):   #magic function\n",
        "    self.num = x\n",
        "    self.den = y\n",
        "  def __str__(self):\n",
        "    return '{}/{}'.format(self.num,self.den)\n",
        "  def __add__(self,other):  #+   print(fr1+fr2)\n",
        "    n_num = self.num*other.den + other.num*self.den\n",
        "    n_den = self.den*other.den\n",
        "    return '{}/{}'.format(n_num,n_den)\n",
        "  def __sub__(self,other):\n",
        "    n_num = self.num*other.den - other.num*self.den\n",
        "    n_den = self.den*other.den\n",
        "    return '{}/{}'.format(n_num,n_den)\n",
        "  def __mul__(self,other):\n",
        "    n_num = self.num*other.num  #3*1=3\n",
        "    n_den = self.den*other.den  #4*2=8\n",
        "    return '{3}/{8}'.format(n_num,n_den)"
      ],
      "metadata": {
        "id": "InxGf6LxLrF0"
      },
      "execution_count": null,
      "outputs": []
    },
    {
      "cell_type": "code",
      "source": [
        "fr1 = Fraction(3,4)\n",
        "fr2 = Fraction(1,2)"
      ],
      "metadata": {
        "id": "efNGIRPy4YWp"
      },
      "execution_count": null,
      "outputs": []
    },
    {
      "cell_type": "code",
      "source": [
        "print(fr1)\n",
        "print(fr2)\n",
        "print(fr1+fr2)\n",
        "print(fr1-fr2)\n",
        "print(fr1*fr2)"
      ],
      "metadata": {
        "id": "_H0xC9JR49Wn",
        "colab": {
          "base_uri": "https://localhost:8080/"
        },
        "outputId": "0b56ceb1-5cf8-40f0-eb4f-206cd996a81b"
      },
      "execution_count": null,
      "outputs": [
        {
          "output_type": "stream",
          "name": "stdout",
          "text": [
            "3/4\n",
            "1/2\n",
            "10/8\n",
            "2/8\n",
            "3/8\n"
          ]
        }
      ]
    },
    {
      "cell_type": "code",
      "source": [
        "q=(3/4)\n",
        "print(q)"
      ],
      "metadata": {
        "colab": {
          "base_uri": "https://localhost:8080/"
        },
        "id": "e8T4oFeXMQCN",
        "outputId": "5569d2b4-87ab-4ae0-d9a5-01f8987e43cf"
      },
      "execution_count": null,
      "outputs": [
        {
          "output_type": "stream",
          "name": "stdout",
          "text": [
            "0.75\n"
          ]
        }
      ]
    }
  ]
}