{
  "cells": [
    {
      "cell_type": "code",
      "execution_count": null,
      "metadata": {
        "id": "DY2ajMqv7pNg"
      },
      "outputs": [],
      "source": []
    },
    {
      "cell_type": "markdown",
      "metadata": {
        "id": "OiOnIkjB7rPS"
      },
      "source": [
        "### all possible list slicing"
      ]
    },
    {
      "cell_type": "code",
      "execution_count": null,
      "metadata": {
        "colab": {
          "base_uri": "https://localhost:8080/"
        },
        "id": "PNx4_k-q76wa",
        "outputId": "67d880ea-d5b0-48f6-ad1a-4dba93f042a1"
      },
      "outputs": [
        {
          "name": "stdout",
          "output_type": "stream",
          "text": [
            "[0, 1, 2, 3, 4]\n",
            "[2, 3]\n",
            "[2, 3, 4]\n",
            "[0, 1]\n",
            "[0, 1, 2, 3, 4]\n",
            "[0, 1, 2, 3]\n",
            "[0, 1, 8, 9, 4]\n"
          ]
        }
      ],
      "source": [
        "nums = list(range(0,5))    # range is a built-in function that creates a list of integers\n",
        "print(nums)         # Prints \"[0, 1, 2, 3, 4]\"\n",
        "print(nums[2:4])    # Get a slice from index 2 to 4 (exclusive); prints \"[2, 3]\"\n",
        "print(nums[2:])     # Get a slice from index 2 to the end; prints \"[2, 3, 4]\"\n",
        "print(nums[:2])     # Get a slice from the start to index 2 (exclusive); prints \"[0, 1]\"\n",
        "print(nums[:])      # Get a slice of the whole list; prints [\"0, 1, 2, 3, 4]\"\n",
        "print(nums[:-1])    # Slice indices can be negative; prints [\"0, 1, 2, 3]\"\n",
        "nums[2:4] = [8, 9] # Assign a new sublist to a slice\n",
        "print(nums)"
      ]
    },
    {
      "cell_type": "markdown",
      "metadata": {
        "id": "-Di0CWzR7sOB"
      },
      "source": [
        "### how to append in list (how to add elements in list )"
      ]
    },
    {
      "cell_type": "code",
      "execution_count": null,
      "metadata": {
        "colab": {
          "base_uri": "https://localhost:8080/"
        },
        "id": "6apq_xOY843q",
        "outputId": "f539c167-c2e6-44e8-a1ef-90f72b217f33"
      },
      "outputs": [
        {
          "data": {
            "text/plain": [
              "7"
            ]
          },
          "execution_count": 140,
          "metadata": {},
          "output_type": "execute_result"
        }
      ],
      "source": [
        "nums = [0, 1, 2, 3, 5]\n",
        "nums\n",
        "nums.append(7)\n",
        "nums[5]                             #[0,1,2,3,5,7"
      ]
    },
    {
      "cell_type": "code",
      "execution_count": null,
      "metadata": {
        "colab": {
          "base_uri": "https://localhost:8080/"
        },
        "id": "ODFE77HG8FU_",
        "outputId": "95e0f73c-ea22-498c-fb5c-47cb6e92f9e4"
      },
      "outputs": [
        {
          "name": "stdout",
          "output_type": "stream",
          "text": [
            "[0.0, 0.5, 1.0, 1.5, 2.5]\n",
            "5\n"
          ]
        }
      ],
      "source": [
        "nums = [0, 1, 2, 3, 5]\n",
        "square = []\n",
        "for x in nums:\n",
        "    square.append(x ** 2)    #[0,1,4,9,25]\n",
        "print(square)\n",
        "print(len(square))\n"
      ]
    },
    {
      "cell_type": "code",
      "execution_count": null,
      "metadata": {
        "colab": {
          "base_uri": "https://localhost:8080/"
        },
        "id": "ZiI-9v0Wrc5F",
        "outputId": "27cd1cd0-bd05-4359-e968-852ded9020c0"
      },
      "outputs": [
        {
          "data": {
            "text/plain": [
              "125"
            ]
          },
          "execution_count": 155,
          "metadata": {},
          "output_type": "execute_result"
        }
      ],
      "source": [
        "x=5\n",
        "y=x**3 #** is used for exponential\n",
        "y"
      ]
    },
    {
      "cell_type": "code",
      "execution_count": null,
      "metadata": {
        "id": "nomTMg_kqgSL"
      },
      "outputs": [],
      "source": [
        "for x in nums:\n",
        "    square.append(x ** 2)\n",
        "print(square)"
      ]
    },
    {
      "cell_type": "markdown",
      "metadata": {
        "id": "qKfU685h7scK"
      },
      "source": [
        "### running for loop inside list (list comprehension)"
      ]
    },
    {
      "cell_type": "code",
      "execution_count": null,
      "metadata": {
        "colab": {
          "base_uri": "https://localhost:8080/"
        },
        "id": "Dai6eAUB8mUc",
        "outputId": "8d875db8-4785-4632-bb87-dc909121e8cb"
      },
      "outputs": [
        {
          "name": "stdout",
          "output_type": "stream",
          "text": [
            "[0, 89, 4, 89, 16]\n"
          ]
        }
      ],
      "source": [
        "nums = [0, 1, 2, 3, 4]\n",
        "y = [x**2 if x%2==0 else 89 for x in nums]  #->if else for\n",
        "print(y)"
      ]
    },
    {
      "cell_type": "code",
      "execution_count": null,
      "metadata": {
        "colab": {
          "base_uri": "https://localhost:8080/"
        },
        "id": "RxEiPYB9-JZU",
        "outputId": "5c979b5c-6827-412d-f64a-d84242650e49"
      },
      "outputs": [
        {
          "name": "stdout",
          "output_type": "stream",
          "text": [
            "[0, 9, 2, 9, 4]\n"
          ]
        }
      ],
      "source": [
        "list1 = [i if i % 2 == 0 else 9 for i in nums]\n",
        "print(list1)"
      ]
    },
    {
      "cell_type": "markdown",
      "metadata": {
        "id": "beqOOXg77sez"
      },
      "source": [
        "### String formatting"
      ]
    },
    {
      "cell_type": "code",
      "execution_count": null,
      "metadata": {
        "colab": {
          "base_uri": "https://localhost:8080/"
        },
        "id": "LHb4aOS9-pFT",
        "outputId": "a38ed975-ecbe-4be9-b0ac-723683d38696"
      },
      "outputs": [
        {
          "name": "stdout",
          "output_type": "stream",
          "text": [
            "name is batman and class no is 77\n",
            "name is batman and class no is 77\n"
          ]
        }
      ],
      "source": [
        "name=\"batman\"\n",
        "class_no=77\n",
        "print('name is {} and class no is {}'.format(name,class_no))  #name is laxman and class no is 7  ->format\n",
        "print(f'name is {name} and class no is {class_no}')          #->f-line method"
      ]
    },
    {
      "cell_type": "code",
      "execution_count": null,
      "metadata": {
        "id": "enwwmH3ZuN7E"
      },
      "outputs": [],
      "source": [
        "print('{}: {}'.format(name, class_no))\n",
        "print(f'{name}: {class_no}')"
      ]
    },
    {
      "cell_type": "markdown",
      "metadata": {
        "id": "3XBXQWKI7siS"
      },
      "source": [
        "### string concatination (how to join strings)"
      ]
    },
    {
      "cell_type": "code",
      "execution_count": null,
      "metadata": {
        "colab": {
          "base_uri": "https://localhost:8080/"
        },
        "id": "oBCQixzM_7hY",
        "outputId": "ca269e74-9835-4352-9579-98afeceba188"
      },
      "outputs": [
        {
          "name": "stdout",
          "output_type": "stream",
          "text": [
            "hello ram\n",
            "hello ram\n",
            "hello ram 6\n",
            "hello ram chandra\n",
            "hello ram\n"
          ]
        }
      ],
      "source": [
        "h='hello'\n",
        "name='ram'\n",
        "statement=h+\" \"+name\n",
        "print(statement)\n",
        "print(\" \".join([h,name]))\n",
        "print(\"%s %s %s\"%(h,name,6))   #%s denotes string data type\n",
        "print(\"%s %s %s\"%(h, name,\"chandra\"))\n",
        "print(h,name)"
      ]
    },
    {
      "cell_type": "markdown",
      "metadata": {
        "id": "mKZVdb4uCM_n"
      },
      "source": [
        "### boolean operations"
      ]
    },
    {
      "cell_type": "code",
      "execution_count": null,
      "metadata": {
        "colab": {
          "base_uri": "https://localhost:8080/"
        },
        "id": "Mem8w7FHCSfs",
        "outputId": "593cd6cb-9201-41c6-9146-764ed06a22a5"
      },
      "outputs": [
        {
          "name": "stdout",
          "output_type": "stream",
          "text": [
            "0\n"
          ]
        }
      ],
      "source": [
        "t,f= True,False\n",
        "a=int(f)\n",
        "print(a)\n"
      ]
    },
    {
      "cell_type": "code",
      "execution_count": null,
      "metadata": {
        "id": "Lnh5Kf940Rck"
      },
      "outputs": [],
      "source": []
    },
    {
      "cell_type": "code",
      "execution_count": null,
      "metadata": {
        "colab": {
          "background_save": true
        },
        "id": "zTU009gKCY_6",
        "outputId": "5fac20f6-8b0e-435e-bac5-868bdfc41119"
      },
      "outputs": [
        {
          "name": "stdout",
          "output_type": "stream",
          "text": [
            "False\n",
            "True\n",
            "False\n",
            "True\n"
          ]
        }
      ],
      "source": [
        "print(t and f) # Logical AND *; 1*1=1 and 1*0=0\n",
        "print(t or f)  # Logical OR +; 1+1=1  and 1+0=1\n",
        "print(not t)   # Logical NOT !; not True= False\n",
        "print(t != f)  # Logical XOR ;"
      ]
    },
    {
      "cell_type": "markdown",
      "metadata": {
        "id": "17tOrEA9CerO"
      },
      "source": [
        "### dictionary\n",
        "1.   mutable\n",
        "2.   no indexing\n",
        "3.   keys cannot be mutable( basically keys cannot be list,sets or dictionary)-> we will learn this concept after learning tuple\n",
        "4.   keys cannot be repeated"
      ]
    },
    {
      "cell_type": "code",
      "execution_count": null,
      "metadata": {
        "colab": {
          "base_uri": "https://localhost:8080/"
        },
        "id": "7R-tRYg5xgZR",
        "outputId": "d584e1cd-d4a9-49e0-93de-4f05f30f7d8b"
      },
      "outputs": [
        {
          "name": "stdout",
          "output_type": "stream",
          "text": [
            "dict_keys([1, 2])\n",
            "dict_keys([1, 2])\n"
          ]
        }
      ],
      "source": [
        "book={1:'ram runs',2:'jumped on bridge'}\n",
        "a=book.keys()\n",
        "print(a)\n",
        "print(book.keys())"
      ]
    },
    {
      "cell_type": "code",
      "execution_count": 7,
      "metadata": {
        "colab": {
          "base_uri": "https://localhost:8080/"
        },
        "id": "IU3nn0lfxt0g",
        "outputId": "0c4e5196-d5ba-4e94-aa3a-3e58c6da7225"
      },
      "outputs": [
        {
          "output_type": "stream",
          "name": "stdout",
          "text": [
            "furry\n"
          ]
        }
      ],
      "source": [
        "d = {'cat': 'cute', 'dog': 'furry'}  # Create a new dictionary with some data\n",
        "print(d['dog'])       # Get an entry from a dictionary; prints \"cute\""
      ]
    },
    {
      "cell_type": "code",
      "execution_count": 5,
      "metadata": {
        "colab": {
          "base_uri": "https://localhost:8080/"
        },
        "id": "HIG7x7YTx6PM",
        "outputId": "6c1754b9-b8eb-431a-8590-4f3f09e66757"
      },
      "outputs": [
        {
          "output_type": "stream",
          "name": "stdout",
          "text": [
            "False\n"
          ]
        }
      ],
      "source": [
        "print('cute' in d)     # Check if a dictionary has a given key; prints \"True\""
      ]
    },
    {
      "cell_type": "markdown",
      "source": [
        "how to add elements in dictionary"
      ],
      "metadata": {
        "id": "1CjE9Unr7C3M"
      }
    },
    {
      "cell_type": "code",
      "execution_count": 12,
      "metadata": {
        "colab": {
          "base_uri": "https://localhost:8080/"
        },
        "id": "DBmT71DNx_rO",
        "outputId": "08a6e29d-5d0f-4c9b-92fd-5f0d392adb1e"
      },
      "outputs": [
        {
          "output_type": "stream",
          "name": "stdout",
          "text": [
            "{'cat': 'cute', 'dog': 'furry', 'fish': 'wet'}\n"
          ]
        }
      ],
      "source": [
        "\n",
        "d['fish'] = 'wet'   # Set an entry in a dictionary\n",
        "print(d)"
      ]
    },
    {
      "cell_type": "code",
      "execution_count": 13,
      "metadata": {
        "colab": {
          "base_uri": "https://localhost:8080/"
        },
        "id": "9VqVffiqSSn8",
        "outputId": "debeb7a9-ff91-48b8-afff-14fc6c4c1af9"
      },
      "outputs": [
        {
          "output_type": "stream",
          "name": "stdout",
          "text": [
            "dict_items([('cat', 'cute'), ('dog', 'furry'), ('fish', 'wet')])\n"
          ]
        }
      ],
      "source": [
        "print(d.items())"
      ]
    },
    {
      "cell_type": "code",
      "execution_count": null,
      "metadata": {
        "colab": {
          "base_uri": "https://localhost:8080/",
          "height": 141
        },
        "id": "Ghd08F4Zx_ts",
        "outputId": "d2c1bfd2-26b1-4f44-8b2c-6babd564ae52"
      },
      "outputs": [
        {
          "ename": "KeyError",
          "evalue": "'monkey'",
          "output_type": "error",
          "traceback": [
            "\u001b[0;31m---------------------------------------------------------------------------\u001b[0m",
            "\u001b[0;31mKeyError\u001b[0m                                  Traceback (most recent call last)",
            "\u001b[0;32m<ipython-input-73-78fc9745d9cf>\u001b[0m in \u001b[0;36m<cell line: 1>\u001b[0;34m()\u001b[0m\n\u001b[0;32m----> 1\u001b[0;31m \u001b[0mprint\u001b[0m\u001b[0;34m(\u001b[0m\u001b[0md\u001b[0m\u001b[0;34m[\u001b[0m\u001b[0;34m'monkey'\u001b[0m\u001b[0;34m]\u001b[0m\u001b[0;34m)\u001b[0m  \u001b[0;31m# KeyError: 'monkey' not a key of d\u001b[0m\u001b[0;34m\u001b[0m\u001b[0;34m\u001b[0m\u001b[0m\n\u001b[0m",
            "\u001b[0;31mKeyError\u001b[0m: 'monkey'"
          ]
        }
      ],
      "source": [
        "print(d['monkey'])  # KeyError: 'monkey' not a key of d"
      ]
    },
    {
      "cell_type": "code",
      "source": [
        "d.get('monkey','not present')"
      ],
      "metadata": {
        "colab": {
          "base_uri": "https://localhost:8080/",
          "height": 36
        },
        "id": "61QfExuA76BZ",
        "outputId": "1a064bd2-928f-4493-f31b-432a4bb52ba3"
      },
      "execution_count": 18,
      "outputs": [
        {
          "output_type": "execute_result",
          "data": {
            "text/plain": [
              "'not present'"
            ],
            "application/vnd.google.colaboratory.intrinsic+json": {
              "type": "string"
            }
          },
          "metadata": {},
          "execution_count": 18
        }
      ]
    },
    {
      "cell_type": "code",
      "execution_count": 19,
      "metadata": {
        "colab": {
          "base_uri": "https://localhost:8080/"
        },
        "id": "rkNX9G5Cx_wQ",
        "outputId": "e9f13e5d-fe80-4fcb-8ca1-0565adf50fb7"
      },
      "outputs": [
        {
          "output_type": "stream",
          "name": "stdout",
          "text": [
            "N/A\n",
            "wet\n"
          ]
        }
      ],
      "source": [
        "print(d.get('monkey', 'N/A'))  # Get an element with a default; prints \"N/A\"\n",
        "print(d.get('fish', 'N/A'))    # Get an element with a default; prints \"wet\""
      ]
    },
    {
      "cell_type": "markdown",
      "source": [
        "how to ***delete*** an element in dictionary"
      ],
      "metadata": {
        "id": "WccDTJE19EVY"
      }
    },
    {
      "cell_type": "code",
      "execution_count": 20,
      "metadata": {
        "id": "Yo6LVtxex_yx",
        "colab": {
          "base_uri": "https://localhost:8080/"
        },
        "outputId": "ad6aaefc-6077-4ba7-9d2d-e4b485e0112a"
      },
      "outputs": [
        {
          "output_type": "stream",
          "name": "stdout",
          "text": [
            "N/A\n"
          ]
        }
      ],
      "source": [
        "del d['fish']        # Remove an element from a dictionary\n",
        "print(d.get('fish', 'N/A')) # \"fish\" is no longer a key; prints \"N/A\""
      ]
    },
    {
      "cell_type": "code",
      "execution_count": 22,
      "metadata": {
        "id": "PQWdEW8dx_1M",
        "colab": {
          "base_uri": "https://localhost:8080/",
          "height": 176
        },
        "outputId": "8b26d9cd-bc80-4b20-b33f-052f91d5592c"
      },
      "outputs": [
        {
          "output_type": "error",
          "ename": "NameError",
          "evalue": "name 'd' is not defined",
          "traceback": [
            "\u001b[0;31m---------------------------------------------------------------------------\u001b[0m",
            "\u001b[0;31mNameError\u001b[0m                                 Traceback (most recent call last)",
            "\u001b[0;32m<ipython-input-22-69aa81a509bd>\u001b[0m in \u001b[0;36m<cell line: 3>\u001b[0;34m()\u001b[0m\n\u001b[1;32m      1\u001b[0m \u001b[0md\u001b[0m \u001b[0;34m=\u001b[0m \u001b[0;34m{\u001b[0m\u001b[0;34m'cat'\u001b[0m\u001b[0;34m:\u001b[0m \u001b[0;34m'cute'\u001b[0m\u001b[0;34m,\u001b[0m \u001b[0;34m'dog'\u001b[0m\u001b[0;34m:\u001b[0m \u001b[0;34m'furry'\u001b[0m\u001b[0;34m}\u001b[0m\u001b[0;34m\u001b[0m\u001b[0;34m\u001b[0m\u001b[0m\n\u001b[1;32m      2\u001b[0m \u001b[0;32mdel\u001b[0m \u001b[0md\u001b[0m\u001b[0;34m\u001b[0m\u001b[0;34m\u001b[0m\u001b[0m\n\u001b[0;32m----> 3\u001b[0;31m \u001b[0mprint\u001b[0m\u001b[0;34m(\u001b[0m\u001b[0md\u001b[0m\u001b[0;34m)\u001b[0m\u001b[0;34m\u001b[0m\u001b[0;34m\u001b[0m\u001b[0m\n\u001b[0m",
            "\u001b[0;31mNameError\u001b[0m: name 'd' is not defined"
          ]
        }
      ],
      "source": [
        "d = {'cat': 'cute', 'dog': 'furry'}\n",
        "del d\n",
        "print(d)"
      ]
    },
    {
      "cell_type": "code",
      "source": [
        "d = {'cat': 'cute', 'dog': 'furry'}\n",
        "d.clear()\n",
        "print(d)"
      ],
      "metadata": {
        "colab": {
          "base_uri": "https://localhost:8080/"
        },
        "id": "4-n6M5NrAfeN",
        "outputId": "b33da90a-54ac-4bbe-ce91-f9b4ec186ed3"
      },
      "execution_count": 23,
      "outputs": [
        {
          "output_type": "stream",
          "name": "stdout",
          "text": [
            "{}\n"
          ]
        }
      ]
    },
    {
      "cell_type": "markdown",
      "metadata": {
        "id": "a2ySJ1Q10IEY"
      },
      "source": [
        "It is easy to iterate over the keys in a dictionary:"
      ]
    },
    {
      "cell_type": "code",
      "execution_count": 29,
      "metadata": {
        "colab": {
          "base_uri": "https://localhost:8080/"
        },
        "id": "CV8K-0fvx_39",
        "outputId": "83f4ae1c-bad4-42f3-91d7-955c083e4096"
      },
      "outputs": [
        {
          "output_type": "stream",
          "name": "stdout",
          "text": [
            "person 2\n",
            "cat 4\n",
            "spider uu\n"
          ]
        }
      ],
      "source": [
        "d = {'person': 2, 'cat': 4, 'spider': 'uu'}\n",
        "for k,v in d.items():\n",
        "  print(k,v)"
      ]
    },
    {
      "cell_type": "code",
      "execution_count": 40,
      "metadata": {
        "colab": {
          "base_uri": "https://localhost:8080/"
        },
        "id": "2Ig_1wORx_7K",
        "outputId": "1119de57-b963-424e-e4cb-8e654bc2755b"
      },
      "outputs": [
        {
          "output_type": "stream",
          "name": "stdout",
          "text": [
            "[2, 4, 'uu']\n",
            "[('person', 2), ('cat', 4), ('spider', 'uu')]\n",
            "<class 'list'>\n",
            "['person', 'cat', 'spider']\n"
          ]
        }
      ],
      "source": [
        "f=list(d.values())\n",
        "print(f)\n",
        "e=list(d.items())\n",
        "print(e)\n",
        "print(type(e))\n",
        "q=list(d.keys())\n",
        "print(q)"
      ]
    },
    {
      "cell_type": "markdown",
      "source": [
        "dictionary comprehension"
      ],
      "metadata": {
        "id": "ILtNOcOKC5l1"
      }
    },
    {
      "cell_type": "code",
      "execution_count": 43,
      "metadata": {
        "colab": {
          "base_uri": "https://localhost:8080/"
        },
        "id": "OlcpXNP91dta",
        "outputId": "af1f00c2-ada1-4287-d009-fb91861018f2"
      },
      "outputs": [
        {
          "output_type": "stream",
          "name": "stdout",
          "text": [
            "{0: 0, 1: 1, 2: 4, 3: 27, 4: 16}\n"
          ]
        }
      ],
      "source": [
        "nums = [0, 1, 2, 3, 4]\n",
        "even_num_to_square = { i: i**2 if i%2==0 else i**3 for i in nums}\n",
        "print(even_num_to_square)"
      ]
    },
    {
      "cell_type": "markdown",
      "metadata": {
        "id": "_TV2GR3sPgtP"
      },
      "source": [
        "duplicate ***keys*** are not allowed"
      ]
    },
    {
      "cell_type": "code",
      "execution_count": 45,
      "metadata": {
        "colab": {
          "base_uri": "https://localhost:8080/",
          "height": 36
        },
        "id": "bXWDSGVmMeIU",
        "outputId": "1a056990-166a-446e-8437-3c89a4280204"
      },
      "outputs": [
        {
          "output_type": "execute_result",
          "data": {
            "text/plain": [
              "'yy'"
            ],
            "application/vnd.google.colaboratory.intrinsic+json": {
              "type": "string"
            }
          },
          "metadata": {},
          "execution_count": 45
        }
      ],
      "source": [
        "d = {'cat': 'cute','dog': 'furry','dog':'yy'}\n",
        "d['dog']"
      ]
    },
    {
      "cell_type": "code",
      "execution_count": null,
      "metadata": {
        "id": "ZCDRyen0OQ3Y"
      },
      "outputs": [],
      "source": []
    },
    {
      "cell_type": "markdown",
      "metadata": {
        "id": "TqMFCX6fORq7"
      },
      "source": [
        "2d dictrionary -> json"
      ]
    },
    {
      "cell_type": "code",
      "execution_count": null,
      "metadata": {
        "colab": {
          "base_uri": "https://localhost:8080/"
        },
        "id": "dJwwDaTDOTec",
        "outputId": "83e8f4df-4a9d-4078-c25c-fdcb43050530"
      },
      "outputs": [
        {
          "name": "stdout",
          "output_type": "stream",
          "text": [
            "{'name': 'ram', 'roll_no': 2345, 'subjects': {'chemistry': 35, 'dsa': 45}}\n"
          ]
        }
      ],
      "source": [
        "s={'name':'ram','roll_no':2345,'subjects':{'chemistry':35,'dsa':45}}\n",
        "print(s)"
      ]
    },
    {
      "cell_type": "code",
      "source": [],
      "metadata": {
        "id": "1mL65WnJFulg"
      },
      "execution_count": 46,
      "outputs": []
    },
    {
      "cell_type": "markdown",
      "metadata": {
        "id": "XhaRajO3PFg-"
      },
      "source": [
        "create dictionary with dict"
      ]
    },
    {
      "cell_type": "code",
      "source": [
        "l=dict([('hero','batman'),('villain','joker')])\n",
        "print(l)"
      ],
      "metadata": {
        "colab": {
          "base_uri": "https://localhost:8080/"
        },
        "id": "BpubuJLuGBJz",
        "outputId": "1657d801-0443-482c-a1a3-0f089a45d5ef"
      },
      "execution_count": 48,
      "outputs": [
        {
          "output_type": "stream",
          "name": "stdout",
          "text": [
            "{'hero': 'batman', 'villain': 'joker'}\n"
          ]
        }
      ]
    },
    {
      "cell_type": "code",
      "execution_count": 53,
      "metadata": {
        "colab": {
          "base_uri": "https://localhost:8080/"
        },
        "id": "XYx3d2sIPIs0",
        "outputId": "649ad23e-0b96-4097-cc38-dc50175831b2"
      },
      "outputs": [
        {
          "output_type": "stream",
          "name": "stdout",
          "text": [
            "{'name': 'ram', 'roll_no': 2345, 'subjects': {'chemistry': 35, 'dsa': 45}}\n"
          ]
        }
      ],
      "source": [
        "dd=dict([('name','ram'),('roll_no',2345),('subjects',{'chemistry':35,'dsa':45})])\n",
        "dd2=dict([('name','ram'),('roll_no',2345),('subjects',dict([('chemistry',35),('dsa',45)]))])\n",
        "print(dd2)"
      ]
    },
    {
      "cell_type": "code",
      "execution_count": 56,
      "metadata": {
        "colab": {
          "base_uri": "https://localhost:8080/"
        },
        "id": "Dn3AuMePV5sj",
        "outputId": "9f37da8b-a490-4894-f8e0-a7c9c6a1a6b8"
      },
      "outputs": [
        {
          "output_type": "execute_result",
          "data": {
            "text/plain": [
              "45"
            ]
          },
          "metadata": {},
          "execution_count": 56
        }
      ],
      "source": [
        "dd['subjects']['dsa']"
      ]
    },
    {
      "cell_type": "code",
      "execution_count": null,
      "metadata": {
        "colab": {
          "base_uri": "https://localhost:8080/"
        },
        "id": "sQdv1UNHVU3J",
        "outputId": "3e66aae3-0535-43f1-8c0e-84d25094034c"
      },
      "outputs": [
        {
          "data": {
            "text/plain": [
              "45"
            ]
          },
          "execution_count": 81,
          "metadata": {},
          "output_type": "execute_result"
        }
      ],
      "source": [
        "q=s['subjects']\n",
        "q['dsa']"
      ]
    },
    {
      "cell_type": "markdown",
      "metadata": {
        "id": "kf1O_y7uW4BE"
      },
      "source": [
        "\n",
        "*   pop\n",
        "*   popitem\n",
        "*   del\n",
        "*   clear\n",
        "\n"
      ]
    },
    {
      "cell_type": "code",
      "execution_count": null,
      "metadata": {
        "colab": {
          "base_uri": "https://localhost:8080/"
        },
        "id": "udfROOudW6Fq",
        "outputId": "01688d0c-9ef7-47b4-b539-b4dedb1182ae"
      },
      "outputs": [
        {
          "data": {
            "text/plain": [
              "{'dog': 'furry', 'frog': 'wabit'}"
            ]
          },
          "execution_count": 91,
          "metadata": {},
          "output_type": "execute_result"
        }
      ],
      "source": [
        "d = {'cat': 'cute','dog': 'furry','frog':\"wabit\"}\n",
        "d.pop('cat')\n",
        "d"
      ]
    },
    {
      "cell_type": "code",
      "execution_count": null,
      "metadata": {
        "colab": {
          "base_uri": "https://localhost:8080/"
        },
        "id": "5ijJgQGwXR_y",
        "outputId": "34e80c6d-5e2c-4c19-e40a-ab7db0146181"
      },
      "outputs": [
        {
          "data": {
            "text/plain": [
              "{'cat': 'cute', 'dog': 'furry'}"
            ]
          },
          "execution_count": 92,
          "metadata": {},
          "output_type": "execute_result"
        }
      ],
      "source": [
        "d = {'cat': 'cute','dog': 'furry','frog':\"wabit\"}\n",
        "d.popitem()\n",
        "d"
      ]
    },
    {
      "cell_type": "code",
      "execution_count": null,
      "metadata": {
        "colab": {
          "base_uri": "https://localhost:8080/"
        },
        "id": "2L7x3o-5Xnbx",
        "outputId": "8bea9f69-384e-4604-99cc-21bc382d321f"
      },
      "outputs": [
        {
          "data": {
            "text/plain": [
              "{'dog': 'furry', 'frog': 'wabit'}"
            ]
          },
          "execution_count": 93,
          "metadata": {},
          "output_type": "execute_result"
        }
      ],
      "source": [
        "d = {'cat': 'cute','dog': 'furry','frog':\"wabit\"}\n",
        "del d['cat']\n",
        "d"
      ]
    },
    {
      "cell_type": "code",
      "execution_count": null,
      "metadata": {
        "colab": {
          "base_uri": "https://localhost:8080/",
          "height": 176
        },
        "id": "BopTjHT-X8ij",
        "outputId": "19f8d932-b19d-4bd3-8a90-ac06adc3eb0a"
      },
      "outputs": [
        {
          "ename": "NameError",
          "evalue": "name 'd' is not defined",
          "output_type": "error",
          "traceback": [
            "\u001b[0;31m---------------------------------------------------------------------------\u001b[0m",
            "\u001b[0;31mNameError\u001b[0m                                 Traceback (most recent call last)",
            "\u001b[0;32m<ipython-input-94-7a003e48869a>\u001b[0m in \u001b[0;36m<cell line: 3>\u001b[0;34m()\u001b[0m\n\u001b[1;32m      1\u001b[0m \u001b[0md\u001b[0m \u001b[0;34m=\u001b[0m \u001b[0;34m{\u001b[0m\u001b[0;34m'cat'\u001b[0m\u001b[0;34m:\u001b[0m \u001b[0;34m'cute'\u001b[0m\u001b[0;34m,\u001b[0m\u001b[0;34m'dog'\u001b[0m\u001b[0;34m:\u001b[0m \u001b[0;34m'furry'\u001b[0m\u001b[0;34m,\u001b[0m\u001b[0;34m'frog'\u001b[0m\u001b[0;34m:\u001b[0m\u001b[0;34m\"wabit\"\u001b[0m\u001b[0;34m}\u001b[0m\u001b[0;34m\u001b[0m\u001b[0;34m\u001b[0m\u001b[0m\n\u001b[1;32m      2\u001b[0m \u001b[0;32mdel\u001b[0m \u001b[0md\u001b[0m\u001b[0;34m\u001b[0m\u001b[0;34m\u001b[0m\u001b[0m\n\u001b[0;32m----> 3\u001b[0;31m \u001b[0md\u001b[0m\u001b[0;34m\u001b[0m\u001b[0;34m\u001b[0m\u001b[0m\n\u001b[0m",
            "\u001b[0;31mNameError\u001b[0m: name 'd' is not defined"
          ]
        }
      ],
      "source": [
        "d = {'cat': 'cute','dog': 'furry','frog':\"wabit\"}\n",
        "del d\n",
        "d"
      ]
    },
    {
      "cell_type": "code",
      "execution_count": null,
      "metadata": {
        "colab": {
          "base_uri": "https://localhost:8080/"
        },
        "id": "Biw2TcNQYCh5",
        "outputId": "78b62a66-78c7-4fa2-a7c1-8960f4b87859"
      },
      "outputs": [
        {
          "data": {
            "text/plain": [
              "{}"
            ]
          },
          "execution_count": 95,
          "metadata": {},
          "output_type": "execute_result"
        }
      ],
      "source": [
        "d = {'cat': 'cute','dog': 'furry','frog':\"wabit\"}\n",
        "d.clear()\n",
        "d"
      ]
    },
    {
      "cell_type": "code",
      "execution_count": null,
      "metadata": {
        "id": "DgzFUSxNcrJL"
      },
      "outputs": [],
      "source": []
    },
    {
      "cell_type": "markdown",
      "metadata": {
        "id": "w-8EYZnJdFNe"
      },
      "source": [
        "iteration"
      ]
    },
    {
      "cell_type": "code",
      "execution_count": null,
      "metadata": {
        "colab": {
          "base_uri": "https://localhost:8080/"
        },
        "id": "xZb2qs6wdGXd",
        "outputId": "52b310e9-9c19-416b-ab0f-c105f957eb96"
      },
      "outputs": [
        {
          "name": "stdout",
          "output_type": "stream",
          "text": [
            "cat\n",
            "dog\n",
            "frog\n"
          ]
        }
      ],
      "source": [
        "d = {'cat': 'cute','dog': 'furry','frog':\"wabit\"}\n",
        "for i in d:\n",
        "  print(i)"
      ]
    },
    {
      "cell_type": "code",
      "execution_count": null,
      "metadata": {
        "colab": {
          "base_uri": "https://localhost:8080/"
        },
        "id": "1goSKqDqdQS9",
        "outputId": "78a9a18a-bb94-40ac-b35a-5623d88ddcf4"
      },
      "outputs": [
        {
          "name": "stdout",
          "output_type": "stream",
          "text": [
            "cat\n",
            "dog\n",
            "frog\n"
          ]
        }
      ],
      "source": [
        "d = {'cat': 'cute','dog': 'furry','frog':\"wabit\"}\n",
        "for i in d.keys():\n",
        "  print(i)"
      ]
    },
    {
      "cell_type": "code",
      "execution_count": null,
      "metadata": {
        "colab": {
          "base_uri": "https://localhost:8080/"
        },
        "id": "gk3myTK-dQVZ",
        "outputId": "9e205b9c-037c-41cd-bbbb-45bf3f36e7cc"
      },
      "outputs": [
        {
          "name": "stdout",
          "output_type": "stream",
          "text": [
            "cute\n",
            "furry\n",
            "wabit\n"
          ]
        }
      ],
      "source": [
        "d = {'cat': 'cute','dog': 'furry','frog':\"wabit\"}\n",
        "for i in d.values():\n",
        "  print(i)"
      ]
    },
    {
      "cell_type": "code",
      "execution_count": null,
      "metadata": {
        "colab": {
          "base_uri": "https://localhost:8080/"
        },
        "id": "4BmrD1x_dQXg",
        "outputId": "d6d5ea60-72fb-4e2b-8ec9-0a9af47e6eec"
      },
      "outputs": [
        {
          "name": "stdout",
          "output_type": "stream",
          "text": [
            "<class 'tuple'>\n",
            "('cat', 'cute')\n",
            "<class 'tuple'>\n",
            "('dog', 'furry')\n",
            "<class 'tuple'>\n",
            "('frog', 'wabit')\n"
          ]
        }
      ],
      "source": [
        "d = {'cat': 'cute','dog': 'furry','frog':\"wabit\"}\n",
        "for i in d.items():\n",
        "  print(type(i))\n",
        "  print(i)"
      ]
    },
    {
      "cell_type": "code",
      "execution_count": null,
      "metadata": {
        "colab": {
          "base_uri": "https://localhost:8080/"
        },
        "id": "fsMp76z7dQZk",
        "outputId": "a50568f2-1a69-4eeb-cc73-8a9eba3c0a90"
      },
      "outputs": [
        {
          "name": "stdout",
          "output_type": "stream",
          "text": [
            "cat cute\n",
            "dog furry\n",
            "frog wabit\n"
          ]
        }
      ],
      "source": [
        "d = {'cat': 'cute','dog': 'furry','frog':\"wabit\"}\n",
        "for k,v in d.items():\n",
        "  print(k,v)"
      ]
    },
    {
      "cell_type": "code",
      "execution_count": null,
      "metadata": {
        "colab": {
          "base_uri": "https://localhost:8080/"
        },
        "id": "wvx2cobkdQc3",
        "outputId": "188e9ed1-2510-462e-f785-6e93fb19455b"
      },
      "outputs": [
        {
          "name": "stdout",
          "output_type": "stream",
          "text": [
            "name\n",
            "roll_no\n",
            "subjects\n"
          ]
        }
      ],
      "source": [
        "s={'name':'ram',\n",
        "   'roll_no':2345,\n",
        "   'subjects':\n",
        "   {\n",
        "       'chemistry':35,\n",
        "       'dsa':45\n",
        "   }\n",
        "    }\n",
        "for i in s:\n",
        "  print(i)"
      ]
    },
    {
      "cell_type": "code",
      "execution_count": null,
      "metadata": {
        "colab": {
          "base_uri": "https://localhost:8080/"
        },
        "id": "Z-QIrEMfeJTH",
        "outputId": "f240786f-e7c1-47bd-d5f5-3b41e3727b90"
      },
      "outputs": [
        {
          "name": "stdout",
          "output_type": "stream",
          "text": [
            "chemistry\n",
            "dsa\n"
          ]
        }
      ],
      "source": [
        "for i in s['subjects'].keys():\n",
        "  print(i)"
      ]
    },
    {
      "cell_type": "code",
      "execution_count": null,
      "metadata": {
        "colab": {
          "base_uri": "https://localhost:8080/"
        },
        "id": "FvyZB6-Uev_V",
        "outputId": "239fb240-6cec-44a3-c26d-e56efdaceb37"
      },
      "outputs": [
        {
          "name": "stdout",
          "output_type": "stream",
          "text": [
            "35\n",
            "45\n"
          ]
        }
      ],
      "source": [
        "for i in s['subjects'].values():\n",
        "  print(i)"
      ]
    },
    {
      "cell_type": "code",
      "execution_count": null,
      "metadata": {
        "colab": {
          "base_uri": "https://localhost:8080/"
        },
        "id": "yuaSEDT6ezFv",
        "outputId": "492911ef-c530-42d6-d8d9-c7db150733fb"
      },
      "outputs": [
        {
          "name": "stdout",
          "output_type": "stream",
          "text": [
            "('chemistry', 35)\n",
            "('dsa', 45)\n"
          ]
        }
      ],
      "source": [
        "for i in s['subjects'].items():\n",
        "  print(i)"
      ]
    },
    {
      "cell_type": "markdown",
      "source": [
        "***update function*** in dictionary (merging 2 dictionaries)"
      ],
      "metadata": {
        "id": "Zq4nRgc0mBT8"
      }
    },
    {
      "cell_type": "code",
      "source": [
        "d={1:2,3:4}\n",
        "d2={4:6,7:8}\n",
        "d2.update(d)\n",
        "print(d2)"
      ],
      "metadata": {
        "colab": {
          "base_uri": "https://localhost:8080/"
        },
        "id": "Bz_DrweDmAjo",
        "outputId": "1688f3ee-c14b-4662-a012-ce7749bfc4aa"
      },
      "execution_count": null,
      "outputs": [
        {
          "output_type": "stream",
          "name": "stdout",
          "text": [
            "{4: 6, 7: 8, 1: 2, 3: 4}\n"
          ]
        }
      ]
    },
    {
      "cell_type": "markdown",
      "source": [
        "zip function to create dictionary"
      ],
      "metadata": {
        "id": "djfDZBl_BA1O"
      }
    },
    {
      "cell_type": "code",
      "source": [
        "a=[1,2]\n",
        "b=[\"a\",\"b\"]\n",
        "q={i:j for (i,j) in zip(a,b) }\n",
        "z=zip(a,b)\n",
        "for i,j in z:\n",
        "  print(i,j)"
      ],
      "metadata": {
        "colab": {
          "base_uri": "https://localhost:8080/"
        },
        "id": "0LXeuqmKAA2V",
        "outputId": "410269ab-806a-49e5-fd2a-24ee9720572b"
      },
      "execution_count": null,
      "outputs": [
        {
          "output_type": "stream",
          "name": "stdout",
          "text": [
            "1 a\n",
            "2 b\n"
          ]
        }
      ]
    },
    {
      "cell_type": "markdown",
      "metadata": {
        "id": "tHrbYcdmcr8n"
      },
      "source": [
        "### tuple\n",
        "A tuple in Python is similar to a list. The difference between the two is that we cannot change the elements of a tuple once it is assigned whereas we can change the elements of a list.\n",
        "\n",
        "In short, a tuple is an immutable list. A tuple can not be changed in any way once it is created.\n",
        "\n",
        "Characterstics\n",
        "\n",
        "Ordered\n",
        "Unchangeble\n",
        "Allows duplicate"
      ]
    },
    {
      "cell_type": "code",
      "execution_count": null,
      "metadata": {
        "id": "ZFZhOlZ2ct2d"
      },
      "outputs": [],
      "source": []
    }
  ],
  "metadata": {
    "colab": {
      "collapsed_sections": [
        "OiOnIkjB7rPS",
        "-Di0CWzR7sOB",
        "qKfU685h7scK",
        "3XBXQWKI7siS",
        "mKZVdb4uCM_n"
      ],
      "provenance": []
    },
    "kernelspec": {
      "display_name": "Python 3",
      "name": "python3"
    },
    "language_info": {
      "name": "python"
    }
  },
  "nbformat": 4,
  "nbformat_minor": 0
}