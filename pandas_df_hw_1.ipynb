{
  "nbformat": 4,
  "nbformat_minor": 0,
  "metadata": {
    "colab": {
      "provenance": []
    },
    "kernelspec": {
      "name": "python3",
      "display_name": "Python 3"
    },
    "language_info": {
      "name": "python"
    }
  },
  "cells": [
    {
      "cell_type": "code",
      "source": [
        "import numpy as np\n",
        "import pandas as pd"
      ],
      "metadata": {
        "id": "tW1_0CRjtHvt"
      },
      "execution_count": 1,
      "outputs": []
    },
    {
      "cell_type": "code",
      "execution_count": 2,
      "metadata": {
        "colab": {
          "base_uri": "https://localhost:8080/"
        },
        "id": "wjtykr77tA2P",
        "outputId": "5f9835ef-41a7-4404-c07e-00a78a6309a7"
      },
      "outputs": [
        {
          "output_type": "stream",
          "name": "stdout",
          "text": [
            "          Date    Product  Quantity  Revenue     Name\n",
            "0   2024-01-01  Product A        10      100    Alice\n",
            "1   2024-01-02  Product B        15      150      Bob\n",
            "2   2024-01-03  Product A         7       70  Charlie\n",
            "3   2024-01-04  Product C        12      120    David\n",
            "4   2024-01-05  Product B         5       50      Eve\n",
            "5   2024-01-06  Product A         8       80    Frank\n",
            "6   2024-01-07  Product D         6       60    Grace\n",
            "7   2024-01-08  Product C        14      140     Hank\n",
            "8   2024-01-09  Product B         3       30      Ivy\n",
            "9   2024-01-10  Product A         9       90     Jack\n",
            "10  2024-01-11  Product C        11      110    Kelly\n",
            "11  2024-01-12  Product A         4       40     Liam\n",
            "12  2024-01-13  Product B        13      130     Mona\n",
            "13  2024-01-14  Product D         7       70     Nate\n",
            "14  2024-01-15  Product A        10      100   Olivia\n",
            "15  2024-01-16  Product C         8       80     Paul\n",
            "16  2024-01-17  Product B         2       20   Quincy\n",
            "17  2024-01-18  Product A         5       50     Rita\n",
            "18  2024-01-19  Product D         6       60    Steve\n",
            "19  2024-01-20  Product C        10      100     Tina\n"
          ]
        }
      ],
      "source": [
        "data = {\n",
        "    'Date': ['2024-01-01', '2024-01-02', '2024-01-03', '2024-01-04', '2024-01-05',\n",
        "             '2024-01-06', '2024-01-07', '2024-01-08', '2024-01-09', '2024-01-10',\n",
        "             '2024-01-11', '2024-01-12', '2024-01-13', '2024-01-14', '2024-01-15',\n",
        "             '2024-01-16', '2024-01-17', '2024-01-18', '2024-01-19', '2024-01-20'],\n",
        "    'Product': ['Product A', 'Product B', 'Product A', 'Product C', 'Product B',\n",
        "                'Product A', 'Product D', 'Product C', 'Product B', 'Product A',\n",
        "                'Product C', 'Product A', 'Product B', 'Product D', 'Product A',\n",
        "                'Product C', 'Product B', 'Product A', 'Product D', 'Product C'],\n",
        "    'Quantity': [10, 15, 7, 12, 5,\n",
        "                 8, 6, 14, 3, 9,\n",
        "                 11, 4, 13, 7, 10,\n",
        "                 8, 2, 5, 6, 10],\n",
        "    'Revenue': [100, 150, 70, 120, 50,\n",
        "                80, 60, 140, 30, 90,\n",
        "                110, 40, 130, 70, 100,\n",
        "                80, 20, 50, 60, 100],\n",
        "    'Name': ['Alice', 'Bob', 'Charlie', 'David', 'Eve',\n",
        "             'Frank', 'Grace', 'Hank', 'Ivy', 'Jack',\n",
        "             'Kelly', 'Liam', 'Mona', 'Nate', 'Olivia',\n",
        "             'Paul', 'Quincy', 'Rita', 'Steve', 'Tina']\n",
        "}\n",
        "\n",
        "# Create DataFrame\n",
        "sales_df = pd.DataFrame(data)\n",
        "\n",
        "print(sales_df)"
      ]
    },
    {
      "cell_type": "code",
      "source": [
        "#select first 7 rows using iloc\n"
      ],
      "metadata": {
        "id": "bmpD1yv_x7Ta"
      },
      "execution_count": null,
      "outputs": []
    },
    {
      "cell_type": "code",
      "source": [
        "#select the first 7 rows and the first 3 columns using iloc function\n"
      ],
      "metadata": {
        "id": "ISlAtZg7u1IG"
      },
      "execution_count": null,
      "outputs": []
    },
    {
      "cell_type": "code",
      "source": [
        "sale2=sales_df.copy()"
      ],
      "metadata": {
        "id": "9Qv6sfPoucqn"
      },
      "execution_count": 3,
      "outputs": []
    },
    {
      "cell_type": "code",
      "source": [
        "sale2.set_index(\"Name\",inplace=True)"
      ],
      "metadata": {
        "id": "nJLjAvVJuhNq"
      },
      "execution_count": 4,
      "outputs": []
    },
    {
      "cell_type": "code",
      "source": [
        "print(sale2)"
      ],
      "metadata": {
        "colab": {
          "base_uri": "https://localhost:8080/"
        },
        "id": "ZBy0vVMivI5-",
        "outputId": "83498024-23bb-4765-becf-8c145367435f"
      },
      "execution_count": 5,
      "outputs": [
        {
          "output_type": "stream",
          "name": "stdout",
          "text": [
            "               Date    Product  Quantity  Revenue\n",
            "Name                                             \n",
            "Alice    2024-01-01  Product A        10      100\n",
            "Bob      2024-01-02  Product B        15      150\n",
            "Charlie  2024-01-03  Product A         7       70\n",
            "David    2024-01-04  Product C        12      120\n",
            "Eve      2024-01-05  Product B         5       50\n",
            "Frank    2024-01-06  Product A         8       80\n",
            "Grace    2024-01-07  Product D         6       60\n",
            "Hank     2024-01-08  Product C        14      140\n",
            "Ivy      2024-01-09  Product B         3       30\n",
            "Jack     2024-01-10  Product A         9       90\n",
            "Kelly    2024-01-11  Product C        11      110\n",
            "Liam     2024-01-12  Product A         4       40\n",
            "Mona     2024-01-13  Product B        13      130\n",
            "Nate     2024-01-14  Product D         7       70\n",
            "Olivia   2024-01-15  Product A        10      100\n",
            "Paul     2024-01-16  Product C         8       80\n",
            "Quincy   2024-01-17  Product B         2       20\n",
            "Rita     2024-01-18  Product A         5       50\n",
            "Steve    2024-01-19  Product D         6       60\n",
            "Tina     2024-01-20  Product C        10      100\n"
          ]
        }
      ]
    },
    {
      "cell_type": "markdown",
      "source": [
        "**answer all the following questions based on** ***sale2*** **dataframe**"
      ],
      "metadata": {
        "id": "lbTGJEpcydZg"
      }
    },
    {
      "cell_type": "code",
      "source": [
        "#select the first 5 rows from sale2 using loc function\n"
      ],
      "metadata": {
        "id": "FemQrGzKum6D"
      },
      "execution_count": null,
      "outputs": []
    },
    {
      "cell_type": "code",
      "source": [
        "#select the first 5 rows from sale2 using iloc function\n"
      ],
      "metadata": {
        "id": "5jJ0DkxAvznL"
      },
      "execution_count": null,
      "outputs": []
    },
    {
      "cell_type": "code",
      "source": [
        "#select the first 5 rows along with product and reveneu column using loc function\n"
      ],
      "metadata": {
        "id": "AWUSgDmBunTz"
      },
      "execution_count": null,
      "outputs": []
    },
    {
      "cell_type": "code",
      "source": [
        "#select the first 5 rows along with product and reveneu column using iloc function\n"
      ],
      "metadata": {
        "id": "g9elAvFbvsTu"
      },
      "execution_count": null,
      "outputs": []
    },
    {
      "cell_type": "markdown",
      "source": [
        "dataframe filtering"
      ],
      "metadata": {
        "id": "2Wh2z5_wEI4P"
      }
    },
    {
      "cell_type": "code",
      "source": [
        "#find all rows where quantity is greater than 10\n"
      ],
      "metadata": {
        "id": "kjjmGAJ7ELGz"
      },
      "execution_count": null,
      "outputs": []
    },
    {
      "cell_type": "code",
      "source": [
        "#find all rows where revenue is between than 50 and 100 (inclusive of both ends)\n"
      ],
      "metadata": {
        "id": "OVvp8gJ8ETBa"
      },
      "execution_count": 34,
      "outputs": []
    },
    {
      "cell_type": "code",
      "source": [
        "#find all rows where date is between 2024-01-07 and 2024-01-18 (inclusive of both ends)\n"
      ],
      "metadata": {
        "id": "3ov_NJauFUT6"
      },
      "execution_count": 33,
      "outputs": []
    },
    {
      "cell_type": "markdown",
      "source": [
        "**apply function**"
      ],
      "metadata": {
        "id": "wZWOt2D5FMdN"
      }
    },
    {
      "cell_type": "code",
      "source": [
        "def sq(x):\n",
        "  return x**2\n"
      ],
      "metadata": {
        "id": "P2ZVewMgwiYt"
      },
      "execution_count": null,
      "outputs": []
    },
    {
      "cell_type": "code",
      "source": [
        "#convert values in revenue into their square using apply function and the above \"sq\" function\n",
        "sale2[\"Revenue\"]=#your code"
      ],
      "metadata": {
        "id": "ymuN8_0awooy"
      },
      "execution_count": null,
      "outputs": []
    },
    {
      "cell_type": "code",
      "source": [],
      "metadata": {
        "id": "spbRTd9uzL9D"
      },
      "execution_count": 13,
      "outputs": []
    }
  ]
}