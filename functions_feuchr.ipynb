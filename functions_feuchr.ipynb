{
  "nbformat": 4,
  "nbformat_minor": 0,
  "metadata": {
    "colab": {
      "provenance": []
    },
    "kernelspec": {
      "name": "python3",
      "display_name": "Python 3"
    },
    "language_info": {
      "name": "python"
    }
  },
  "cells": [
    {
      "cell_type": "code",
      "execution_count": null,
      "metadata": {
        "id": "9yxr_UM3_cde"
      },
      "outputs": [],
      "source": []
    },
    {
      "cell_type": "markdown",
      "metadata": {
        "id": "DUCADewXEcpQ"
      },
      "source": [
        "### functions"
      ]
    },
    {
      "cell_type": "markdown",
      "source": [
        "### Types of Arguments\n",
        "\n",
        "- Default Argument\n",
        "- Positional Argument\n",
        "- Keyword Argument"
      ],
      "metadata": {
        "id": "6hOt68rR-84k"
      }
    },
    {
      "cell_type": "code",
      "execution_count": null,
      "metadata": {
        "id": "5f3L8C54HdiR"
      },
      "outputs": [],
      "source": [
        "#def name_of_the_function(your parameters(optional)):\n",
        " # body of function\n",
        "  #return variable_name(optional)"
      ]
    },
    {
      "cell_type": "code",
      "execution_count": 8,
      "metadata": {
        "id": "LXC6BAhTHdkY"
      },
      "outputs": [],
      "source": [
        "def square_area(side=1): # default argument\n",
        "  area=side**2\n",
        "  return area"
      ]
    },
    {
      "cell_type": "code",
      "source": [
        "square_area()"
      ],
      "metadata": {
        "colab": {
          "base_uri": "https://localhost:8080/"
        },
        "id": "8xi53hjsRhRY",
        "outputId": "8a19fd84-d4bc-4cf3-9122-7c78cde32967"
      },
      "execution_count": 11,
      "outputs": [
        {
          "output_type": "execute_result",
          "data": {
            "text/plain": [
              "1"
            ]
          },
          "metadata": {},
          "execution_count": 11
        }
      ]
    },
    {
      "cell_type": "code",
      "source": [
        "#simple function\n",
        "def add1(a,b):  #b=2,a=3  a,b=2,3   t,f=True,False\n",
        "  print(a,b)\n",
        "  return a+b"
      ],
      "metadata": {
        "id": "-T4P9apy-Jsr"
      },
      "execution_count": 30,
      "outputs": []
    },
    {
      "cell_type": "code",
      "execution_count": 31,
      "metadata": {
        "id": "qRnfFZr9Hdno",
        "colab": {
          "base_uri": "https://localhost:8080/"
        },
        "outputId": "9def2b21-0c7d-4b8e-e47b-80894e6fdc77"
      },
      "outputs": [
        {
          "output_type": "stream",
          "name": "stdout",
          "text": [
            "2 3\n",
            "5\n"
          ]
        }
      ],
      "source": [
        "\n",
        "print(add1(2,3))  # positional argument"
      ]
    },
    {
      "cell_type": "code",
      "source": [
        "def add2(a=1,b=1):\n",
        "  print(a,b)\n",
        "  return a+b"
      ],
      "metadata": {
        "id": "lXSqm-Jm-ywj"
      },
      "execution_count": 36,
      "outputs": []
    },
    {
      "cell_type": "code",
      "source": [
        "print(add2(2))  # default argument+positional argument"
      ],
      "metadata": {
        "colab": {
          "base_uri": "https://localhost:8080/"
        },
        "id": "ql80-nZw-2SI",
        "outputId": "9fa79cbe-78a9-45a9-c5b2-bac9825f15c3"
      },
      "execution_count": 37,
      "outputs": [
        {
          "output_type": "stream",
          "name": "stdout",
          "text": [
            "1 2\n",
            "3\n"
          ]
        }
      ]
    },
    {
      "cell_type": "code",
      "source": [
        "def add3(a=1,b=1,c=1,d=1):\n",
        "  print(a,b,c,d)\n",
        "  return a+b"
      ],
      "metadata": {
        "id": "zew-TKhJ_n4p"
      },
      "execution_count": 38,
      "outputs": []
    },
    {
      "cell_type": "code",
      "source": [
        "print(add3(b=2,a=3,d=5)) #keyword argument+default argument"
      ],
      "metadata": {
        "colab": {
          "base_uri": "https://localhost:8080/"
        },
        "id": "FdkTvHbr_kRL",
        "outputId": "adc4a80f-61f6-4c3a-82b6-7ca9ee1c0237"
      },
      "execution_count": 39,
      "outputs": [
        {
          "output_type": "stream",
          "name": "stdout",
          "text": [
            "3 2 4 5\n",
            "5\n"
          ]
        }
      ]
    },
    {
      "cell_type": "code",
      "source": [],
      "metadata": {
        "id": "vW1jJAyhX8LS"
      },
      "execution_count": null,
      "outputs": []
    },
    {
      "cell_type": "markdown",
      "source": [
        "argument and parameters\n",
        "*   paramets are present in function definition\n",
        "*   areguments are passed while calling a function"
      ],
      "metadata": {
        "id": "btmnIt-DYYd_"
      }
    },
    {
      "cell_type": "code",
      "source": [
        "def is_uni(a):\n",
        "  print(list(set(a)))\n",
        "  s=set(a)\n",
        "  l=list(s)\n",
        "  print(l)"
      ],
      "metadata": {
        "id": "-FI2RG1XAP2b"
      },
      "execution_count": 40,
      "outputs": []
    },
    {
      "cell_type": "code",
      "source": [
        "def is_uni(a):\n",
        "  l=[]\n",
        "  for i in a:\n",
        "    if i not in l:\n",
        "      l.append(i)\n",
        "  return(l)"
      ],
      "metadata": {
        "id": "55hnaSf-d8Jh"
      },
      "execution_count": 42,
      "outputs": []
    },
    {
      "cell_type": "code",
      "source": [
        "a=[1,1,2,2,3,3,3,4]\n",
        "print(is_uni(a))    #output=[1,2,3,4]"
      ],
      "metadata": {
        "id": "zdNbtfv3ARrl",
        "colab": {
          "base_uri": "https://localhost:8080/"
        },
        "outputId": "a9f2f22a-7f83-4fab-d613-2b7db986e036"
      },
      "execution_count": 43,
      "outputs": [
        {
          "output_type": "stream",
          "name": "stdout",
          "text": [
            "[1, 2, 3, 4]\n"
          ]
        }
      ]
    },
    {
      "cell_type": "markdown",
      "source": [
        "### `*args and **kwargs`\n",
        "`*args and **kwargs` are special Python keywords that are used to pass the variable length of arguments to a function"
      ],
      "metadata": {
        "id": "ynO59kYKLhGZ"
      }
    },
    {
      "cell_type": "markdown",
      "source": [],
      "metadata": {
        "id": "itnSwwSgfFev"
      }
    },
    {
      "cell_type": "code",
      "source": [
        "def add4(a,b,*sumit):\n",
        "  print(a,b)\n",
        "  print(sumit)\n",
        "  sum1=0                 # internally args creates a tuple  \"args\" can be anything like \"margs\"\n",
        "  for i in sumit:\n",
        "    sum1 = sum1 + i\n",
        "  return sum1"
      ],
      "metadata": {
        "id": "RbOe9tSDeksf"
      },
      "execution_count": 51,
      "outputs": []
    },
    {
      "cell_type": "code",
      "source": [
        "add4(1,2,3,4,5)"
      ],
      "metadata": {
        "colab": {
          "base_uri": "https://localhost:8080/"
        },
        "id": "n2lXh5ydeicn",
        "outputId": "e9a2ca37-a75d-4f02-dc6c-078e9b09c636"
      },
      "execution_count": 52,
      "outputs": [
        {
          "output_type": "stream",
          "name": "stdout",
          "text": [
            "1 2\n",
            "(3, 4, 5)\n"
          ]
        },
        {
          "output_type": "execute_result",
          "data": {
            "text/plain": [
              "12"
            ]
          },
          "metadata": {},
          "execution_count": 52
        }
      ]
    },
    {
      "cell_type": "code",
      "source": [],
      "metadata": {
        "id": "oHGB7GuBg1Ba"
      },
      "execution_count": null,
      "outputs": []
    },
    {
      "cell_type": "code",
      "execution_count": 53,
      "metadata": {
        "id": "avbJByd8Nm8g"
      },
      "outputs": [],
      "source": [
        "# *args\n",
        "# allows us to pass a variable number of non-keyword arguments to a function.\n",
        "\n",
        "def add4(a,b,*args):     # internally args creates a tuple  \"args\" can be anything like \"margs\"\n",
        "  sum1 = a+b\n",
        "  print(type(args))\n",
        "\n",
        "  for i in args:\n",
        "    sum1 = sum1 + i\n",
        "\n",
        "  print(args)\n",
        "  return sum1"
      ]
    },
    {
      "cell_type": "code",
      "execution_count": 54,
      "metadata": {
        "id": "Vlg0H1koNZDH",
        "colab": {
          "base_uri": "https://localhost:8080/"
        },
        "outputId": "0f4c7c01-5871-4e39-a1dc-7e9814664347"
      },
      "outputs": [
        {
          "output_type": "stream",
          "name": "stdout",
          "text": [
            "<class 'tuple'>\n",
            "(3, 4, 5)\n"
          ]
        },
        {
          "output_type": "execute_result",
          "data": {
            "text/plain": [
              "15"
            ]
          },
          "metadata": {},
          "execution_count": 54
        }
      ],
      "source": [
        "add4(1,2,3,4,5)"
      ]
    },
    {
      "cell_type": "code",
      "execution_count": 58,
      "metadata": {
        "id": "UolqQtC_NZFQ"
      },
      "outputs": [],
      "source": [
        "# **kwargs\n",
        "# **kwargs allows us to pass any number of keyword arguments.\n",
        "# Keyword arguments mean that they contain a key-value pair, like a Python dictionary.\n",
        "# Keyword arguments does not accept int as keys.\n",
        "\n",
        "def display(**country):\n",
        "  print(type(country))\n",
        "  print(country)\n",
        "  for (key,value) in country.items():\n",
        "    print(key,'->',value)"
      ]
    },
    {
      "cell_type": "code",
      "source": [
        "d={2:\"7\",}"
      ],
      "metadata": {
        "id": "rWmve8teiJsG"
      },
      "execution_count": null,
      "outputs": []
    },
    {
      "cell_type": "code",
      "execution_count": 62,
      "metadata": {
        "id": "emxYCpaKNZIm",
        "colab": {
          "base_uri": "https://localhost:8080/"
        },
        "outputId": "51aec0eb-b2f7-4553-c797-4c4c8b9bf057"
      },
      "outputs": [
        {
          "output_type": "stream",
          "name": "stdout",
          "text": [
            "<class 'dict'>\n",
            "{'india': 'delhi', 'srilanka': 'colombo', 'nepal': 'kathmandu', 'pakistan': 'islamabad', 'usa': 'DC'}\n",
            "india -> delhi\n",
            "srilanka -> colombo\n",
            "nepal -> kathmandu\n",
            "pakistan -> islamabad\n",
            "usa -> DC\n"
          ]
        }
      ],
      "source": [
        "display(india='delhi',srilanka='colombo',nepal='kathmandu',pakistan='islamabad',usa=\"DC\")"
      ]
    },
    {
      "cell_type": "markdown",
      "source": [
        "##### Points to remember while using `*args and **kwargs`\n",
        "\n",
        "- order of the arguments matter(normal -> `*args` -> `**kwargs`)\n",
        "- The words “args” and “kwargs” are only a convention, you can use any name of your choice\n"
      ],
      "metadata": {
        "id": "zHVEKbPzlJCE"
      }
    },
    {
      "cell_type": "code",
      "source": [
        "def add4(a,b,*args,**kwargs):     # internally args creates a tuple  \"args\" can be anything like \"margs\"\n",
        "  print(a,b)\n",
        "  print((args))\n",
        "  print(kwargs)\n",
        "\n",
        "  for i in kwargs.items():\n",
        "    print(i)"
      ],
      "metadata": {
        "id": "TDILgKmli3yW"
      },
      "execution_count": 73,
      "outputs": []
    },
    {
      "cell_type": "code",
      "source": [
        "add4(1,2,3,4,5,dd=\"ravi\",ee=\"bb\")"
      ],
      "metadata": {
        "colab": {
          "base_uri": "https://localhost:8080/"
        },
        "id": "fJ2QhQq1i5H5",
        "outputId": "1b7f402e-3a4e-4eee-cbf4-459ec7407c6f"
      },
      "execution_count": 74,
      "outputs": [
        {
          "output_type": "stream",
          "name": "stdout",
          "text": [
            "1 2\n",
            "(3, 4, 5)\n",
            "{'dd': 'ravi', 'ee': 'bb'}\n",
            "('dd', 'ravi')\n",
            "('ee', 'bb')\n"
          ]
        }
      ]
    },
    {
      "cell_type": "markdown",
      "source": [
        "### Without return statement"
      ],
      "metadata": {
        "id": "PO5paJw0_VfL"
      }
    },
    {
      "cell_type": "code",
      "source": [
        "def pr(a):   # a=\"good\"\n",
        "  print(a+\"morning\")  # print(\"good\"+\"morning\")\n",
        "  return a"
      ],
      "metadata": {
        "id": "Z7h_-D18KKdz"
      },
      "execution_count": 84,
      "outputs": []
    },
    {
      "cell_type": "code",
      "source": [
        "print(pr(\"good\"))"
      ],
      "metadata": {
        "colab": {
          "base_uri": "https://localhost:8080/"
        },
        "id": "JrnK4a2kKPyr",
        "outputId": "34bf77e1-97cf-44d8-fd9d-315d2eba4c76"
      },
      "execution_count": 85,
      "outputs": [
        {
          "output_type": "stream",
          "name": "stdout",
          "text": [
            "goodmorning\n",
            "good\n"
          ]
        }
      ]
    },
    {
      "cell_type": "code",
      "source": [
        "L = [1,2,3]\n",
        "print(L.append(4))\n",
        "print(L)"
      ],
      "metadata": {
        "colab": {
          "base_uri": "https://localhost:8080/"
        },
        "id": "-7AgrqdT_ZEg",
        "outputId": "2e93be20-5bd3-4271-929b-193342ba4e7c"
      },
      "execution_count": null,
      "outputs": [
        {
          "output_type": "stream",
          "name": "stdout",
          "text": [
            "None\n",
            "[1, 2, 3, 4]\n"
          ]
        }
      ]
    },
    {
      "cell_type": "code",
      "source": [],
      "metadata": {
        "id": "iDmSqtYGEgOa"
      },
      "execution_count": null,
      "outputs": []
    },
    {
      "cell_type": "markdown",
      "source": [
        "### Variable Scope"
      ],
      "metadata": {
        "id": "OyixpfDX_ZnV"
      }
    },
    {
      "cell_type": "code",
      "source": [
        "# learn from this\n",
        "def num10(y):\n",
        "  print(y)\n",
        "  print(id(y))\n",
        "  y=y*10\n",
        "  print(id(y))\n",
        "  return y\n",
        "x=5\n",
        "print(id(x))\n",
        "print(num10(x))"
      ],
      "metadata": {
        "id": "tbe8Wu1u_eyk",
        "colab": {
          "base_uri": "https://localhost:8080/"
        },
        "outputId": "a4f0888a-7775-4c85-cd73-056ae7afc9e2"
      },
      "execution_count": 1,
      "outputs": [
        {
          "output_type": "stream",
          "name": "stdout",
          "text": [
            "137745412358512\n",
            "5\n",
            "137745412358512\n",
            "137745412359952\n",
            "50\n"
          ]
        }
      ]
    },
    {
      "cell_type": "code",
      "source": [
        "# learn from this\n",
        "def num10(y):\n",
        "  print(y)\n",
        "  print(id(y))\n",
        "  y=x*10\n",
        "  print(id(y))\n",
        "  return y\n",
        "x=5\n",
        "print(id(x))\n",
        "print(num10(x))"
      ],
      "metadata": {
        "colab": {
          "base_uri": "https://localhost:8080/"
        },
        "id": "s3im2E3B8CgE",
        "outputId": "9a3e466c-bdd6-406b-d069-c1ec820763c0"
      },
      "execution_count": 3,
      "outputs": [
        {
          "output_type": "stream",
          "name": "stdout",
          "text": [
            "137745412358512\n",
            "5\n",
            "137745412358512\n",
            "137745412358512\n",
            "137745412359952\n",
            "50\n"
          ]
        }
      ]
    },
    {
      "cell_type": "code",
      "source": [
        "def f(y):\n",
        "    print(\"y id\",id(y))\n",
        "    y=1\n",
        "    print(id(y))\n",
        "    y = y+1\n",
        "    print(y)\n",
        "x = 6\n",
        "print(id(x))\n",
        "f(x)\n",
        "print(x)"
      ],
      "metadata": {
        "id": "anIqcG4cBQ7u",
        "colab": {
          "base_uri": "https://localhost:8080/"
        },
        "outputId": "dfd9810c-fda3-49fe-91e5-a49f5d70b108"
      },
      "execution_count": 9,
      "outputs": [
        {
          "output_type": "stream",
          "name": "stdout",
          "text": [
            "137745412358544\n",
            "y id 137745412358544\n",
            "137745412358384\n",
            "2\n",
            "6\n"
          ]
        }
      ]
    },
    {
      "cell_type": "code",
      "source": [
        "def g(y):\n",
        "    print(id(y))\n",
        "    y=y+1   # y is a local variable\n",
        "    print(id(y))\n",
        "    print(y)\n",
        "x = 5\n",
        "g(x)          # x is a global variable\n",
        "print(x)"
      ],
      "metadata": {
        "colab": {
          "base_uri": "https://localhost:8080/"
        },
        "id": "9veiNKqAMW3k",
        "outputId": "f1afd2ee-9595-4223-c45d-5d8793ca89b6"
      },
      "execution_count": 12,
      "outputs": [
        {
          "output_type": "stream",
          "name": "stdout",
          "text": [
            "137745412358512\n",
            "137745412358544\n",
            "6\n",
            "5\n"
          ]
        }
      ]
    },
    {
      "cell_type": "markdown",
      "source": [
        "### Nested Functions"
      ],
      "metadata": {
        "id": "znwMedSzE1pP"
      }
    },
    {
      "cell_type": "code",
      "source": [
        "def f():\n",
        "  def g():\n",
        "    print('inside function g')\n",
        "  print('inside function f')\n",
        "  g()\n",
        ""
      ],
      "metadata": {
        "id": "dn7ysudV_jb4"
      },
      "execution_count": 14,
      "outputs": []
    },
    {
      "cell_type": "code",
      "source": [
        "f()"
      ],
      "metadata": {
        "colab": {
          "base_uri": "https://localhost:8080/"
        },
        "id": "WyY5JYwVCufe",
        "outputId": "69c9df0d-8394-4059-f865-ad93b3296d93"
      },
      "execution_count": 15,
      "outputs": [
        {
          "output_type": "stream",
          "name": "stdout",
          "text": [
            "inside function f\n",
            "inside function g\n"
          ]
        }
      ]
    },
    {
      "cell_type": "code",
      "source": [
        "def g(x):\n",
        "    def h():\n",
        "        x = 'abc'\n",
        "        print(\"x add in h\",id(x))\n",
        "    x = x + 1\n",
        "    print(\"x add in g\",id(x))\n",
        "    print('in g(x): x =', x)\n",
        "    h()\n",
        "    return x\n",
        "\n",
        "x = 3\n",
        "print(\"x add in main\",id(x))\n",
        "z = g(x)\n",
        "print(z)\n",
        "print(id(z))"
      ],
      "metadata": {
        "id": "HIIAwqT9CDsB",
        "colab": {
          "base_uri": "https://localhost:8080/"
        },
        "outputId": "6442470a-3ccf-4d3f-81a8-b42db8a528cf"
      },
      "execution_count": 21,
      "outputs": [
        {
          "output_type": "stream",
          "name": "stdout",
          "text": [
            "x add in main 137745412358448\n",
            "x add in g 137745412358480\n",
            "in g(x): x = 4\n",
            "x add in h 137745411182896\n",
            "4\n",
            "137745412358480\n"
          ]
        }
      ]
    },
    {
      "cell_type": "code",
      "source": [
        "def g(x):\n",
        "    def h(x):\n",
        "        x = x+1\n",
        "        print(\"in h(x): x = \", x)\n",
        "    x = x + 1\n",
        "    print('in g(x): x = ', x)\n",
        "    h(x)\n",
        "    return x\n",
        "\n",
        "x = 3\n",
        "z = g(x)\n",
        "print('in main program scope: x = ', x)\n",
        "print('in main program scope: z = ', z)"
      ],
      "metadata": {
        "id": "C_q8dzhWBu_0",
        "colab": {
          "base_uri": "https://localhost:8080/"
        },
        "outputId": "ffbb4c43-c396-4c96-ef4c-4e9891f1ae39"
      },
      "execution_count": 22,
      "outputs": [
        {
          "output_type": "stream",
          "name": "stdout",
          "text": [
            "in g(x): x =  4\n",
            "in h(x): x =  5\n",
            "in main program scope: x =  3\n",
            "in main program scope: z =  4\n"
          ]
        }
      ]
    },
    {
      "cell_type": "code",
      "source": [],
      "metadata": {
        "id": "_xnHV-ANB5rp"
      },
      "execution_count": null,
      "outputs": []
    },
    {
      "cell_type": "markdown",
      "source": [
        "### Functions like data type in python\n",
        "\n",
        "*   List item\n",
        "\n"
      ],
      "metadata": {
        "id": "JNR1jzxf_ntS"
      }
    },
    {
      "cell_type": "code",
      "source": [
        "# type and id\n",
        "def cube(num):\n",
        "  return num**3\n",
        "\n",
        "print(type(cube))\n",
        "\n",
        "hex(id(cube))"
      ],
      "metadata": {
        "colab": {
          "base_uri": "https://localhost:8080/",
          "height": 53
        },
        "id": "m7q2wWmB_p_E",
        "outputId": "a55feb82-8727-4249-d79e-ae955c1c1ad8"
      },
      "execution_count": 34,
      "outputs": [
        {
          "output_type": "stream",
          "name": "stdout",
          "text": [
            "<class 'function'>\n"
          ]
        },
        {
          "output_type": "execute_result",
          "data": {
            "text/plain": [
              "'0x7d470de3f760'"
            ],
            "application/vnd.google.colaboratory.intrinsic+json": {
              "type": "string"
            }
          },
          "metadata": {},
          "execution_count": 34
        }
      ]
    },
    {
      "cell_type": "code",
      "source": [
        "q=cube\n",
        "print(q(3))"
      ],
      "metadata": {
        "colab": {
          "base_uri": "https://localhost:8080/"
        },
        "id": "nmthwcLMpxOA",
        "outputId": "c507bc17-00e3-4186-885a-ca136fb45fe3"
      },
      "execution_count": 32,
      "outputs": [
        {
          "output_type": "stream",
          "name": "stdout",
          "text": [
            "27\n"
          ]
        }
      ]
    },
    {
      "cell_type": "code",
      "source": [
        "#delete function\n",
        "del cube"
      ],
      "metadata": {
        "id": "vBoh7hxNkqHk"
      },
      "execution_count": 27,
      "outputs": []
    },
    {
      "cell_type": "code",
      "source": [
        "z=cube(3)"
      ],
      "metadata": {
        "id": "SVJR8daBkxHI"
      },
      "execution_count": 30,
      "outputs": []
    },
    {
      "cell_type": "code",
      "source": [
        "lis=[1,2,q]\n",
        "print(lis[-1](3))"
      ],
      "metadata": {
        "colab": {
          "base_uri": "https://localhost:8080/"
        },
        "id": "2gw3U4z5k1wd",
        "outputId": "035e2b5c-09f4-47f8-8fa2-d341571efe78"
      },
      "execution_count": 36,
      "outputs": [
        {
          "output_type": "stream",
          "name": "stdout",
          "text": [
            "27\n"
          ]
        }
      ]
    },
    {
      "cell_type": "code",
      "source": [
        "# returning a function\n"
      ],
      "metadata": {
        "id": "DS442nxc_wQv"
      },
      "execution_count": null,
      "outputs": []
    },
    {
      "cell_type": "code",
      "source": [
        "def f():\n",
        "    def x(a, b):\n",
        "        return a+b\n",
        "    return x\n",
        "\n",
        "val = f()(3,4)  #x(3,4)\n",
        "print(val)"
      ],
      "metadata": {
        "id": "V0wLu-g3C50j",
        "colab": {
          "base_uri": "https://localhost:8080/"
        },
        "outputId": "b17bf6a4-3f88-456c-c958-5f47480432a7"
      },
      "execution_count": 37,
      "outputs": [
        {
          "output_type": "stream",
          "name": "stdout",
          "text": [
            "7\n"
          ]
        }
      ]
    },
    {
      "cell_type": "code",
      "source": [
        "# pass function as argument"
      ],
      "metadata": {
        "id": "hUF93h33_ze1"
      },
      "execution_count": null,
      "outputs": []
    },
    {
      "cell_type": "code",
      "source": [
        "def f_one():\n",
        "    print('inside one')\n",
        "\n",
        "def f_two(q):     #func_b(func_a)\n",
        "    print('inside two')\n",
        "    return q()     #func_a()\n",
        "print(f_two(f_one))"
      ],
      "metadata": {
        "id": "Vn9ItKI_B8Vv",
        "colab": {
          "base_uri": "https://localhost:8080/"
        },
        "outputId": "561152e9-dee2-43c9-9494-ad6657a438ed"
      },
      "execution_count": 40,
      "outputs": [
        {
          "output_type": "stream",
          "name": "stdout",
          "text": [
            "inside two\n",
            "inside one\n",
            "None\n"
          ]
        }
      ]
    },
    {
      "cell_type": "code",
      "source": [],
      "metadata": {
        "id": "dJo6r53CBoqX"
      },
      "execution_count": 36,
      "outputs": []
    }
  ]
}